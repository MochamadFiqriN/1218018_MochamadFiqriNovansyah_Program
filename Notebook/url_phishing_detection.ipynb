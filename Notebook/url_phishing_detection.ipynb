{
  "cells": [
    {
      "cell_type": "markdown",
      "metadata": {
        "id": "aDaBVLrbBr8T"
      },
      "source": [
        "# **Pendahuluan**\n",
        "\n",
        "\n",
        "---\n",
        "\n",
        "Phising Detected adalah proyek model machine learning untuk mengidentifikasi website phising. Phising merupakan suatu kejahatan yang cukup sering terjadi dimanapun. Salah satu penyebabnya adalah kurangnya pengetahuan dan kesadaran masyarakat dalam membedakan antara website resmi dan website phising. Oleh karena itu diperlukan suatu media yang dapat mengidentifikasi website phising untuk masyarakat. Salah satu media yang dapat digunakan adalah sebuah website phising detected yang dapat diakses melalui desktop maupun smartphone dan menurut kami ini adalah kesempatan yang baik untuk mengedukasi masyarakat melalui website ini karena mudah untuk diakses oleh siapapun"
      ]
    },
    {
      "cell_type": "markdown",
      "metadata": {
        "id": "-4XGlntQAE4G"
      },
      "source": [
        "# **Data Understanding**\n",
        "---\n",
        "Data yang digunakan pada model ini adalah data web phishing dari kaggle.\n",
        "\n",
        "kaggle datasets download -d taruntiwarihp/phishing-site-urlskaggle datasets\n",
        "\n",
        "Url sumber data : [Dataset kaggle : Phishing Site Urls](https://www.kaggle.com/taruntiwarihp/phishing-site-urls)"
      ]
    },
    {
      "cell_type": "markdown",
      "metadata": {
        "id": "4QDaFBtCEr9u"
      },
      "source": [
        "### Import Library\n",
        "---\n",
        "Pada bagian ini kami mengimport semua library yang dibutuhkan pada pembuatan model prediksi."
      ]
    },
    {
      "cell_type": "code",
      "execution_count": 3,
      "metadata": {
        "id": "zFq2ymv43uYz"
      },
      "outputs": [],
      "source": [
        "from google.colab import drive\n",
        "import numpy as np\n",
        "import pandas as pd\n",
        "import seaborn as sns\n",
        "import matplotlib.pyplot as plt\n",
        "%matplotlib inline\n",
        "import time\n",
        "from sklearn.linear_model import LogisticRegression\n",
        "from sklearn.naive_bayes import MultinomialNB\n",
        "from sklearn.svm import SVC\n",
        "from sklearn.tree import DecisionTreeClassifier\n",
        "from sklearn.neural_network import MLPClassifier\n",
        "from sklearn.neighbors import KNeighborsClassifier\n",
        "from sklearn.model_selection import train_test_split\n",
        "from sklearn.metrics import classification_report\n",
        "from sklearn.metrics import confusion_matrix\n",
        "from sklearn.feature_extraction.text import CountVectorizer\n",
        "from sklearn.pipeline import make_pipeline\n",
        "from nltk.tokenize import RegexpTokenizer\n",
        "from nltk.stem.snowball import SnowballStemmer\n",
        "import networkx as next\n",
        "import pickle\n",
        "import warnings\n",
        "warnings.filterwarnings('ignore')"
      ]
    },
    {
      "cell_type": "markdown",
      "metadata": {
        "id": "LVcNcG3ZE6Cx"
      },
      "source": [
        "### Mempersiapkan Dataset\n",
        "---\n",
        "Pada bagian ini saya mendownload dataset langsung dari kaggle kemudian menampilkannya, dataset yang saya gunakan yaitu phishing_site_urls.csv"
      ]
    },
    {
      "cell_type": "code",
      "execution_count": 4,
      "metadata": {
        "id": "zatYNRPs6Kir",
        "colab": {
          "base_uri": "https://localhost:8080/"
        },
        "outputId": "23b0c305-0727-4d68-abcc-bd7b5c65ef23"
      },
      "outputs": [
        {
          "output_type": "stream",
          "name": "stdout",
          "text": [
            "Mounted at /content/drive\n"
          ]
        }
      ],
      "source": [
        "drive.mount('/content/drive')"
      ]
    },
    {
      "cell_type": "code",
      "execution_count": 5,
      "metadata": {
        "id": "jg1xh5Bo6jdc",
        "colab": {
          "base_uri": "https://localhost:8080/",
          "height": 424
        },
        "outputId": "773300b4-b703-4969-bbb0-59f1cd2244a4"
      },
      "outputs": [
        {
          "output_type": "execute_result",
          "data": {
            "text/plain": [
              "                       URL Label\n",
              "0             facebook.com  good\n",
              "1       https://google.com  good\n",
              "2              twitter.com  good\n",
              "3            tokopedia.com  good\n",
              "4    https://instagram.com  good\n",
              "..                     ...   ...\n",
              "549               vice.com  good\n",
              "550                mola.tv  good\n",
              "551         indihome.co.id  good\n",
              "552             paypal.com  good\n",
              "553         www.paypal.com  good\n",
              "\n",
              "[554 rows x 2 columns]"
            ],
            "text/html": [
              "\n",
              "  <div id=\"df-55c80ec1-b77b-4fb3-8dbe-7c1a08957019\">\n",
              "    <div class=\"colab-df-container\">\n",
              "      <div>\n",
              "<style scoped>\n",
              "    .dataframe tbody tr th:only-of-type {\n",
              "        vertical-align: middle;\n",
              "    }\n",
              "\n",
              "    .dataframe tbody tr th {\n",
              "        vertical-align: top;\n",
              "    }\n",
              "\n",
              "    .dataframe thead th {\n",
              "        text-align: right;\n",
              "    }\n",
              "</style>\n",
              "<table border=\"1\" class=\"dataframe\">\n",
              "  <thead>\n",
              "    <tr style=\"text-align: right;\">\n",
              "      <th></th>\n",
              "      <th>URL</th>\n",
              "      <th>Label</th>\n",
              "    </tr>\n",
              "  </thead>\n",
              "  <tbody>\n",
              "    <tr>\n",
              "      <th>0</th>\n",
              "      <td>facebook.com</td>\n",
              "      <td>good</td>\n",
              "    </tr>\n",
              "    <tr>\n",
              "      <th>1</th>\n",
              "      <td>https://google.com</td>\n",
              "      <td>good</td>\n",
              "    </tr>\n",
              "    <tr>\n",
              "      <th>2</th>\n",
              "      <td>twitter.com</td>\n",
              "      <td>good</td>\n",
              "    </tr>\n",
              "    <tr>\n",
              "      <th>3</th>\n",
              "      <td>tokopedia.com</td>\n",
              "      <td>good</td>\n",
              "    </tr>\n",
              "    <tr>\n",
              "      <th>4</th>\n",
              "      <td>https://instagram.com</td>\n",
              "      <td>good</td>\n",
              "    </tr>\n",
              "    <tr>\n",
              "      <th>...</th>\n",
              "      <td>...</td>\n",
              "      <td>...</td>\n",
              "    </tr>\n",
              "    <tr>\n",
              "      <th>549</th>\n",
              "      <td>vice.com</td>\n",
              "      <td>good</td>\n",
              "    </tr>\n",
              "    <tr>\n",
              "      <th>550</th>\n",
              "      <td>mola.tv</td>\n",
              "      <td>good</td>\n",
              "    </tr>\n",
              "    <tr>\n",
              "      <th>551</th>\n",
              "      <td>indihome.co.id</td>\n",
              "      <td>good</td>\n",
              "    </tr>\n",
              "    <tr>\n",
              "      <th>552</th>\n",
              "      <td>paypal.com</td>\n",
              "      <td>good</td>\n",
              "    </tr>\n",
              "    <tr>\n",
              "      <th>553</th>\n",
              "      <td>www.paypal.com</td>\n",
              "      <td>good</td>\n",
              "    </tr>\n",
              "  </tbody>\n",
              "</table>\n",
              "<p>554 rows × 2 columns</p>\n",
              "</div>\n",
              "      <button class=\"colab-df-convert\" onclick=\"convertToInteractive('df-55c80ec1-b77b-4fb3-8dbe-7c1a08957019')\"\n",
              "              title=\"Convert this dataframe to an interactive table.\"\n",
              "              style=\"display:none;\">\n",
              "        \n",
              "  <svg xmlns=\"http://www.w3.org/2000/svg\" height=\"24px\"viewBox=\"0 0 24 24\"\n",
              "       width=\"24px\">\n",
              "    <path d=\"M0 0h24v24H0V0z\" fill=\"none\"/>\n",
              "    <path d=\"M18.56 5.44l.94 2.06.94-2.06 2.06-.94-2.06-.94-.94-2.06-.94 2.06-2.06.94zm-11 1L8.5 8.5l.94-2.06 2.06-.94-2.06-.94L8.5 2.5l-.94 2.06-2.06.94zm10 10l.94 2.06.94-2.06 2.06-.94-2.06-.94-.94-2.06-.94 2.06-2.06.94z\"/><path d=\"M17.41 7.96l-1.37-1.37c-.4-.4-.92-.59-1.43-.59-.52 0-1.04.2-1.43.59L10.3 9.45l-7.72 7.72c-.78.78-.78 2.05 0 2.83L4 21.41c.39.39.9.59 1.41.59.51 0 1.02-.2 1.41-.59l7.78-7.78 2.81-2.81c.8-.78.8-2.07 0-2.86zM5.41 20L4 18.59l7.72-7.72 1.47 1.35L5.41 20z\"/>\n",
              "  </svg>\n",
              "      </button>\n",
              "      \n",
              "  <style>\n",
              "    .colab-df-container {\n",
              "      display:flex;\n",
              "      flex-wrap:wrap;\n",
              "      gap: 12px;\n",
              "    }\n",
              "\n",
              "    .colab-df-convert {\n",
              "      background-color: #E8F0FE;\n",
              "      border: none;\n",
              "      border-radius: 50%;\n",
              "      cursor: pointer;\n",
              "      display: none;\n",
              "      fill: #1967D2;\n",
              "      height: 32px;\n",
              "      padding: 0 0 0 0;\n",
              "      width: 32px;\n",
              "    }\n",
              "\n",
              "    .colab-df-convert:hover {\n",
              "      background-color: #E2EBFA;\n",
              "      box-shadow: 0px 1px 2px rgba(60, 64, 67, 0.3), 0px 1px 3px 1px rgba(60, 64, 67, 0.15);\n",
              "      fill: #174EA6;\n",
              "    }\n",
              "\n",
              "    [theme=dark] .colab-df-convert {\n",
              "      background-color: #3B4455;\n",
              "      fill: #D2E3FC;\n",
              "    }\n",
              "\n",
              "    [theme=dark] .colab-df-convert:hover {\n",
              "      background-color: #434B5C;\n",
              "      box-shadow: 0px 1px 3px 1px rgba(0, 0, 0, 0.15);\n",
              "      filter: drop-shadow(0px 1px 2px rgba(0, 0, 0, 0.3));\n",
              "      fill: #FFFFFF;\n",
              "    }\n",
              "  </style>\n",
              "\n",
              "      <script>\n",
              "        const buttonEl =\n",
              "          document.querySelector('#df-55c80ec1-b77b-4fb3-8dbe-7c1a08957019 button.colab-df-convert');\n",
              "        buttonEl.style.display =\n",
              "          google.colab.kernel.accessAllowed ? 'block' : 'none';\n",
              "\n",
              "        async function convertToInteractive(key) {\n",
              "          const element = document.querySelector('#df-55c80ec1-b77b-4fb3-8dbe-7c1a08957019');\n",
              "          const dataTable =\n",
              "            await google.colab.kernel.invokeFunction('convertToInteractive',\n",
              "                                                     [key], {});\n",
              "          if (!dataTable) return;\n",
              "\n",
              "          const docLinkHtml = 'Like what you see? Visit the ' +\n",
              "            '<a target=\"_blank\" href=https://colab.research.google.com/notebooks/data_table.ipynb>data table notebook</a>'\n",
              "            + ' to learn more about interactive tables.';\n",
              "          element.innerHTML = '';\n",
              "          dataTable['output_type'] = 'display_data';\n",
              "          await google.colab.output.renderOutput(dataTable, element);\n",
              "          const docLink = document.createElement('div');\n",
              "          docLink.innerHTML = docLinkHtml;\n",
              "          element.appendChild(docLink);\n",
              "        }\n",
              "      </script>\n",
              "    </div>\n",
              "  </div>\n",
              "  "
            ]
          },
          "metadata": {},
          "execution_count": 5
        }
      ],
      "source": [
        "df = pd.read_csv('/content/drive/MyDrive/Dataset_Phishing.csv')\n",
        "df"
      ]
    },
    {
      "cell_type": "markdown",
      "metadata": {
        "id": "czk1fVcPFKM_"
      },
      "source": [
        "# **Exploratory Data Analysis**\n",
        "---\n",
        "tahap eksplorasi dilakukan untuk mendapatkan insight dari dataset"
      ]
    },
    {
      "cell_type": "markdown",
      "metadata": {
        "id": "JUyHOP4bFX--"
      },
      "source": [
        "### Deskripsi Variabel\n",
        "---\n",
        "Pada dataset ini terdapat 2 variabel yaitu URL merepresentasikan alamat link dan Label merepresentasikan apakah link dikategorikan bad/good."
      ]
    },
    {
      "cell_type": "markdown",
      "metadata": {
        "id": "5R2PYdPfFpcj"
      },
      "source": [
        "**Penjelasan** : `df.describe()` dan `df.info()` digunakan untuk mendapatkan informasi dataframe."
      ]
    },
    {
      "cell_type": "code",
      "execution_count": 6,
      "metadata": {
        "id": "bkOQRrJl75UN",
        "colab": {
          "base_uri": "https://localhost:8080/"
        },
        "outputId": "8bf11bcb-49b4-4b1e-dacb-63ba732bd563"
      },
      "outputs": [
        {
          "output_type": "stream",
          "name": "stdout",
          "text": [
            "<class 'pandas.core.frame.DataFrame'>\n",
            "RangeIndex: 554 entries, 0 to 553\n",
            "Data columns (total 2 columns):\n",
            " #   Column  Non-Null Count  Dtype \n",
            "---  ------  --------------  ----- \n",
            " 0   URL     554 non-null    object\n",
            " 1   Label   554 non-null    object\n",
            "dtypes: object(2)\n",
            "memory usage: 8.8+ KB\n"
          ]
        }
      ],
      "source": [
        "df.info()"
      ]
    },
    {
      "cell_type": "code",
      "execution_count": 7,
      "metadata": {
        "id": "wTngHkT377AV",
        "colab": {
          "base_uri": "https://localhost:8080/",
          "height": 175
        },
        "outputId": "8d186136-cccb-40b1-847f-0abf7ee03467"
      },
      "outputs": [
        {
          "output_type": "execute_result",
          "data": {
            "text/plain": [
              "                 URL Label\n",
              "count            554   554\n",
              "unique           554     2\n",
              "top     facebook.com  good\n",
              "freq               1   463"
            ],
            "text/html": [
              "\n",
              "  <div id=\"df-b6f1a70e-fc73-447f-85c8-02f5dea2c1b8\">\n",
              "    <div class=\"colab-df-container\">\n",
              "      <div>\n",
              "<style scoped>\n",
              "    .dataframe tbody tr th:only-of-type {\n",
              "        vertical-align: middle;\n",
              "    }\n",
              "\n",
              "    .dataframe tbody tr th {\n",
              "        vertical-align: top;\n",
              "    }\n",
              "\n",
              "    .dataframe thead th {\n",
              "        text-align: right;\n",
              "    }\n",
              "</style>\n",
              "<table border=\"1\" class=\"dataframe\">\n",
              "  <thead>\n",
              "    <tr style=\"text-align: right;\">\n",
              "      <th></th>\n",
              "      <th>URL</th>\n",
              "      <th>Label</th>\n",
              "    </tr>\n",
              "  </thead>\n",
              "  <tbody>\n",
              "    <tr>\n",
              "      <th>count</th>\n",
              "      <td>554</td>\n",
              "      <td>554</td>\n",
              "    </tr>\n",
              "    <tr>\n",
              "      <th>unique</th>\n",
              "      <td>554</td>\n",
              "      <td>2</td>\n",
              "    </tr>\n",
              "    <tr>\n",
              "      <th>top</th>\n",
              "      <td>facebook.com</td>\n",
              "      <td>good</td>\n",
              "    </tr>\n",
              "    <tr>\n",
              "      <th>freq</th>\n",
              "      <td>1</td>\n",
              "      <td>463</td>\n",
              "    </tr>\n",
              "  </tbody>\n",
              "</table>\n",
              "</div>\n",
              "      <button class=\"colab-df-convert\" onclick=\"convertToInteractive('df-b6f1a70e-fc73-447f-85c8-02f5dea2c1b8')\"\n",
              "              title=\"Convert this dataframe to an interactive table.\"\n",
              "              style=\"display:none;\">\n",
              "        \n",
              "  <svg xmlns=\"http://www.w3.org/2000/svg\" height=\"24px\"viewBox=\"0 0 24 24\"\n",
              "       width=\"24px\">\n",
              "    <path d=\"M0 0h24v24H0V0z\" fill=\"none\"/>\n",
              "    <path d=\"M18.56 5.44l.94 2.06.94-2.06 2.06-.94-2.06-.94-.94-2.06-.94 2.06-2.06.94zm-11 1L8.5 8.5l.94-2.06 2.06-.94-2.06-.94L8.5 2.5l-.94 2.06-2.06.94zm10 10l.94 2.06.94-2.06 2.06-.94-2.06-.94-.94-2.06-.94 2.06-2.06.94z\"/><path d=\"M17.41 7.96l-1.37-1.37c-.4-.4-.92-.59-1.43-.59-.52 0-1.04.2-1.43.59L10.3 9.45l-7.72 7.72c-.78.78-.78 2.05 0 2.83L4 21.41c.39.39.9.59 1.41.59.51 0 1.02-.2 1.41-.59l7.78-7.78 2.81-2.81c.8-.78.8-2.07 0-2.86zM5.41 20L4 18.59l7.72-7.72 1.47 1.35L5.41 20z\"/>\n",
              "  </svg>\n",
              "      </button>\n",
              "      \n",
              "  <style>\n",
              "    .colab-df-container {\n",
              "      display:flex;\n",
              "      flex-wrap:wrap;\n",
              "      gap: 12px;\n",
              "    }\n",
              "\n",
              "    .colab-df-convert {\n",
              "      background-color: #E8F0FE;\n",
              "      border: none;\n",
              "      border-radius: 50%;\n",
              "      cursor: pointer;\n",
              "      display: none;\n",
              "      fill: #1967D2;\n",
              "      height: 32px;\n",
              "      padding: 0 0 0 0;\n",
              "      width: 32px;\n",
              "    }\n",
              "\n",
              "    .colab-df-convert:hover {\n",
              "      background-color: #E2EBFA;\n",
              "      box-shadow: 0px 1px 2px rgba(60, 64, 67, 0.3), 0px 1px 3px 1px rgba(60, 64, 67, 0.15);\n",
              "      fill: #174EA6;\n",
              "    }\n",
              "\n",
              "    [theme=dark] .colab-df-convert {\n",
              "      background-color: #3B4455;\n",
              "      fill: #D2E3FC;\n",
              "    }\n",
              "\n",
              "    [theme=dark] .colab-df-convert:hover {\n",
              "      background-color: #434B5C;\n",
              "      box-shadow: 0px 1px 3px 1px rgba(0, 0, 0, 0.15);\n",
              "      filter: drop-shadow(0px 1px 2px rgba(0, 0, 0, 0.3));\n",
              "      fill: #FFFFFF;\n",
              "    }\n",
              "  </style>\n",
              "\n",
              "      <script>\n",
              "        const buttonEl =\n",
              "          document.querySelector('#df-b6f1a70e-fc73-447f-85c8-02f5dea2c1b8 button.colab-df-convert');\n",
              "        buttonEl.style.display =\n",
              "          google.colab.kernel.accessAllowed ? 'block' : 'none';\n",
              "\n",
              "        async function convertToInteractive(key) {\n",
              "          const element = document.querySelector('#df-b6f1a70e-fc73-447f-85c8-02f5dea2c1b8');\n",
              "          const dataTable =\n",
              "            await google.colab.kernel.invokeFunction('convertToInteractive',\n",
              "                                                     [key], {});\n",
              "          if (!dataTable) return;\n",
              "\n",
              "          const docLinkHtml = 'Like what you see? Visit the ' +\n",
              "            '<a target=\"_blank\" href=https://colab.research.google.com/notebooks/data_table.ipynb>data table notebook</a>'\n",
              "            + ' to learn more about interactive tables.';\n",
              "          element.innerHTML = '';\n",
              "          dataTable['output_type'] = 'display_data';\n",
              "          await google.colab.output.renderOutput(dataTable, element);\n",
              "          const docLink = document.createElement('div');\n",
              "          docLink.innerHTML = docLinkHtml;\n",
              "          element.appendChild(docLink);\n",
              "        }\n",
              "      </script>\n",
              "    </div>\n",
              "  </div>\n",
              "  "
            ]
          },
          "metadata": {},
          "execution_count": 7
        }
      ],
      "source": [
        "df.describe()"
      ]
    },
    {
      "cell_type": "markdown",
      "metadata": {
        "id": "0vMWX78WFvw3"
      },
      "source": [
        "### Visualisasi Data\n",
        "---\n"
      ]
    },
    {
      "cell_type": "markdown",
      "metadata": {
        "id": "1zdgZrm9G709"
      },
      "source": [
        "untuk masalah klasifikasi kita melakukan pengecekan terlebih dahulu, apakah kelasnya seimbang atau tidak."
      ]
    },
    {
      "cell_type": "code",
      "execution_count": 8,
      "metadata": {
        "id": "NtYp4uxK8HQC"
      },
      "outputs": [],
      "source": [
        "label_counts = pd.DataFrame(df.Label.value_counts())"
      ]
    },
    {
      "cell_type": "code",
      "execution_count": 9,
      "metadata": {
        "id": "2lKYoMhk8M3n",
        "colab": {
          "base_uri": "https://localhost:8080/",
          "height": 282
        },
        "outputId": "df48ad31-c413-4766-d91b-a8ea50ef30df"
      },
      "outputs": [
        {
          "output_type": "execute_result",
          "data": {
            "text/plain": [
              "<matplotlib.axes._subplots.AxesSubplot at 0x7f0d05087450>"
            ]
          },
          "metadata": {},
          "execution_count": 9
        },
        {
          "output_type": "display_data",
          "data": {
            "text/plain": [
              "<Figure size 432x288 with 1 Axes>"
            ],
            "image/png": "[encoded data removed]"
          },
          "metadata": {}
        }
      ],
      "source": [
        "sns.set_style('darkgrid')\n",
        "sns.barplot(label_counts.index,label_counts.Label)"
      ]
    },
    {
      "cell_type": "markdown",
      "metadata": {
        "id": "cnqLPJNcHh2R"
      },
      "source": [
        "# **Data Preparation**\n",
        "---"
      ]
    },
    {
      "cell_type": "markdown",
      "metadata": {
        "id": "PKek2NNTHlCr"
      },
      "source": [
        "### Menangani Missing Value\n",
        "---"
      ]
    },
    {
      "cell_type": "code",
      "execution_count": 10,
      "metadata": {
        "id": "Oa1x5z2L791X",
        "colab": {
          "base_uri": "https://localhost:8080/"
        },
        "outputId": "ccbb45ba-88fa-414b-df7b-ae41d4f88629"
      },
      "outputs": [
        {
          "output_type": "execute_result",
          "data": {
            "text/plain": [
              "URL      0\n",
              "Label    0\n",
              "dtype: int64"
            ]
          },
          "metadata": {},
          "execution_count": 10
        }
      ],
      "source": [
        "df.isnull().sum()"
      ]
    },
    {
      "cell_type": "markdown",
      "metadata": {
        "id": "Q6RVZL7IHoiW"
      },
      "source": [
        "setelah melakukan pengecekan missing value, tidak ada data yang hilang pada dataset yang digunakan."
      ]
    },
    {
      "cell_type": "markdown",
      "metadata": {
        "id": "O5KmwDhvH8gv"
      },
      "source": [
        "### Tokenizer\n",
        "---\n",
        "\n",
        "membuat vektor URL menggunaka CountVectorizer dan mengumpulkan kata-kata dengan tokenizer."
      ]
    },
    {
      "cell_type": "code",
      "execution_count": 11,
      "metadata": {
        "id": "5WqtgPlv8YZw"
      },
      "outputs": [],
      "source": [
        "tokenizer = RegexpTokenizer(r'[A-Za-z]+')"
      ]
    },
    {
      "cell_type": "code",
      "execution_count": 12,
      "metadata": {
        "id": "A_Vpduez8av5",
        "colab": {
          "base_uri": "https://localhost:8080/",
          "height": 36
        },
        "outputId": "bee7f06a-503b-44d0-905c-7c67847706ad"
      },
      "outputs": [
        {
          "output_type": "execute_result",
          "data": {
            "text/plain": [
              "'facebook.com'"
            ],
            "application/vnd.google.colaboratory.intrinsic+json": {
              "type": "string"
            }
          },
          "metadata": {},
          "execution_count": 12
        }
      ],
      "source": [
        "df.URL[0]"
      ]
    },
    {
      "cell_type": "code",
      "execution_count": 13,
      "metadata": {
        "id": "v0dQAKMK8dkJ",
        "colab": {
          "base_uri": "https://localhost:8080/"
        },
        "outputId": "e88a186e-89c3-4957-db0c-55a2084b0059"
      },
      "outputs": [
        {
          "output_type": "execute_result",
          "data": {
            "text/plain": [
              "['facebook', 'com']"
            ]
          },
          "metadata": {},
          "execution_count": 13
        }
      ],
      "source": [
        "tokenizer.tokenize(df.URL[0])"
      ]
    },
    {
      "cell_type": "code",
      "execution_count": 14,
      "metadata": {
        "id": "O8jyo9mj8iw0",
        "colab": {
          "base_uri": "https://localhost:8080/"
        },
        "outputId": "44ed24fa-6e43-4972-cbf5-4e17b6ad0ccd"
      },
      "outputs": [
        {
          "output_type": "stream",
          "name": "stdout",
          "text": [
            "Mengumpulkan kata...\n",
            "Waktu yang dibutuhkan 0.003767065000005232 detik\n"
          ]
        }
      ],
      "source": [
        "print('Mengumpulkan kata...')\n",
        "t0= time.perf_counter()\n",
        "df['text_tokenized'] = df.URL.map(lambda t: tokenizer.tokenize(t)) # doing with all rows\n",
        "t1 = time.perf_counter() - t0\n",
        "print('Waktu yang dibutuhkan',t1 ,'detik')"
      ]
    },
    {
      "cell_type": "code",
      "execution_count": 15,
      "metadata": {
        "id": "EdbuopGB86Sr",
        "colab": {
          "base_uri": "https://localhost:8080/",
          "height": 363
        },
        "outputId": "e4fefe7d-00d0-429b-bfa2-db1d937879ff"
      },
      "outputs": [
        {
          "output_type": "execute_result",
          "data": {
            "text/plain": [
              "                                                   URL Label  \\\n",
              "394  http://paypal-update-account-information-login...   bad   \n",
              "145                                        hotstar.com  good   \n",
              "65                                            sohu.com  good   \n",
              "364      paypal.com.it.webapps.mpp.home.holpbenk24.com   bad   \n",
              "232                                      coco4game.com  good   \n",
              "511                                          mo88i.com  good   \n",
              "193                                     primevideo.com  good   \n",
              "469                                gallerynotebook.com  good   \n",
              "215                               idp-sea.6estates.com  good   \n",
              "92                                        google.co.jp  good   \n",
              "\n",
              "                                        text_tokenized  \n",
              "394  [http, paypal, update, account, information, l...  \n",
              "145                                     [hotstar, com]  \n",
              "65                                         [sohu, com]  \n",
              "364  [paypal, com, it, webapps, mpp, home, holpbenk...  \n",
              "232                                  [coco, game, com]  \n",
              "511                                       [mo, i, com]  \n",
              "193                                  [primevideo, com]  \n",
              "469                             [gallerynotebook, com]  \n",
              "215                           [idp, sea, estates, com]  \n",
              "92                                    [google, co, jp]  "
            ],
            "text/html": [
              "\n",
              "  <div id=\"df-b1ecbfbf-57c5-4eb5-809e-5ed06bef0ff5\">\n",
              "    <div class=\"colab-df-container\">\n",
              "      <div>\n",
              "<style scoped>\n",
              "    .dataframe tbody tr th:only-of-type {\n",
              "        vertical-align: middle;\n",
              "    }\n",
              "\n",
              "    .dataframe tbody tr th {\n",
              "        vertical-align: top;\n",
              "    }\n",
              "\n",
              "    .dataframe thead th {\n",
              "        text-align: right;\n",
              "    }\n",
              "</style>\n",
              "<table border=\"1\" class=\"dataframe\">\n",
              "  <thead>\n",
              "    <tr style=\"text-align: right;\">\n",
              "      <th></th>\n",
              "      <th>URL</th>\n",
              "      <th>Label</th>\n",
              "      <th>text_tokenized</th>\n",
              "    </tr>\n",
              "  </thead>\n",
              "  <tbody>\n",
              "    <tr>\n",
              "      <th>394</th>\n",
              "      <td>http://paypal-update-account-information-login...</td>\n",
              "      <td>bad</td>\n",
              "      <td>[http, paypal, update, account, information, l...</td>\n",
              "    </tr>\n",
              "    <tr>\n",
              "      <th>145</th>\n",
              "      <td>hotstar.com</td>\n",
              "      <td>good</td>\n",
              "      <td>[hotstar, com]</td>\n",
              "    </tr>\n",
              "    <tr>\n",
              "      <th>65</th>\n",
              "      <td>sohu.com</td>\n",
              "      <td>good</td>\n",
              "      <td>[sohu, com]</td>\n",
              "    </tr>\n",
              "    <tr>\n",
              "      <th>364</th>\n",
              "      <td>paypal.com.it.webapps.mpp.home.holpbenk24.com</td>\n",
              "      <td>bad</td>\n",
              "      <td>[paypal, com, it, webapps, mpp, home, holpbenk...</td>\n",
              "    </tr>\n",
              "    <tr>\n",
              "      <th>232</th>\n",
              "      <td>coco4game.com</td>\n",
              "      <td>good</td>\n",
              "      <td>[coco, game, com]</td>\n",
              "    </tr>\n",
              "    <tr>\n",
              "      <th>511</th>\n",
              "      <td>mo88i.com</td>\n",
              "      <td>good</td>\n",
              "      <td>[mo, i, com]</td>\n",
              "    </tr>\n",
              "    <tr>\n",
              "      <th>193</th>\n",
              "      <td>primevideo.com</td>\n",
              "      <td>good</td>\n",
              "      <td>[primevideo, com]</td>\n",
              "    </tr>\n",
              "    <tr>\n",
              "      <th>469</th>\n",
              "      <td>gallerynotebook.com</td>\n",
              "      <td>good</td>\n",
              "      <td>[gallerynotebook, com]</td>\n",
              "    </tr>\n",
              "    <tr>\n",
              "      <th>215</th>\n",
              "      <td>idp-sea.6estates.com</td>\n",
              "      <td>good</td>\n",
              "      <td>[idp, sea, estates, com]</td>\n",
              "    </tr>\n",
              "    <tr>\n",
              "      <th>92</th>\n",
              "      <td>google.co.jp</td>\n",
              "      <td>good</td>\n",
              "      <td>[google, co, jp]</td>\n",
              "    </tr>\n",
              "  </tbody>\n",
              "</table>\n",
              "</div>\n",
              "      <button class=\"colab-df-convert\" onclick=\"convertToInteractive('df-b1ecbfbf-57c5-4eb5-809e-5ed06bef0ff5')\"\n",
              "              title=\"Convert this dataframe to an interactive table.\"\n",
              "              style=\"display:none;\">\n",
              "        \n",
              "  <svg xmlns=\"http://www.w3.org/2000/svg\" height=\"24px\"viewBox=\"0 0 24 24\"\n",
              "       width=\"24px\">\n",
              "    <path d=\"M0 0h24v24H0V0z\" fill=\"none\"/>\n",
              "    <path d=\"M18.56 5.44l.94 2.06.94-2.06 2.06-.94-2.06-.94-.94-2.06-.94 2.06-2.06.94zm-11 1L8.5 8.5l.94-2.06 2.06-.94-2.06-.94L8.5 2.5l-.94 2.06-2.06.94zm10 10l.94 2.06.94-2.06 2.06-.94-2.06-.94-.94-2.06-.94 2.06-2.06.94z\"/><path d=\"M17.41 7.96l-1.37-1.37c-.4-.4-.92-.59-1.43-.59-.52 0-1.04.2-1.43.59L10.3 9.45l-7.72 7.72c-.78.78-.78 2.05 0 2.83L4 21.41c.39.39.9.59 1.41.59.51 0 1.02-.2 1.41-.59l7.78-7.78 2.81-2.81c.8-.78.8-2.07 0-2.86zM5.41 20L4 18.59l7.72-7.72 1.47 1.35L5.41 20z\"/>\n",
              "  </svg>\n",
              "      </button>\n",
              "      \n",
              "  <style>\n",
              "    .colab-df-container {\n",
              "      display:flex;\n",
              "      flex-wrap:wrap;\n",
              "      gap: 12px;\n",
              "    }\n",
              "\n",
              "    .colab-df-convert {\n",
              "      background-color: #E8F0FE;\n",
              "      border: none;\n",
              "      border-radius: 50%;\n",
              "      cursor: pointer;\n",
              "      display: none;\n",
              "      fill: #1967D2;\n",
              "      height: 32px;\n",
              "      padding: 0 0 0 0;\n",
              "      width: 32px;\n",
              "    }\n",
              "\n",
              "    .colab-df-convert:hover {\n",
              "      background-color: #E2EBFA;\n",
              "      box-shadow: 0px 1px 2px rgba(60, 64, 67, 0.3), 0px 1px 3px 1px rgba(60, 64, 67, 0.15);\n",
              "      fill: #174EA6;\n",
              "    }\n",
              "\n",
              "    [theme=dark] .colab-df-convert {\n",
              "      background-color: #3B4455;\n",
              "      fill: #D2E3FC;\n",
              "    }\n",
              "\n",
              "    [theme=dark] .colab-df-convert:hover {\n",
              "      background-color: #434B5C;\n",
              "      box-shadow: 0px 1px 3px 1px rgba(0, 0, 0, 0.15);\n",
              "      filter: drop-shadow(0px 1px 2px rgba(0, 0, 0, 0.3));\n",
              "      fill: #FFFFFF;\n",
              "    }\n",
              "  </style>\n",
              "\n",
              "      <script>\n",
              "        const buttonEl =\n",
              "          document.querySelector('#df-b1ecbfbf-57c5-4eb5-809e-5ed06bef0ff5 button.colab-df-convert');\n",
              "        buttonEl.style.display =\n",
              "          google.colab.kernel.accessAllowed ? 'block' : 'none';\n",
              "\n",
              "        async function convertToInteractive(key) {\n",
              "          const element = document.querySelector('#df-b1ecbfbf-57c5-4eb5-809e-5ed06bef0ff5');\n",
              "          const dataTable =\n",
              "            await google.colab.kernel.invokeFunction('convertToInteractive',\n",
              "                                                     [key], {});\n",
              "          if (!dataTable) return;\n",
              "\n",
              "          const docLinkHtml = 'Like what you see? Visit the ' +\n",
              "            '<a target=\"_blank\" href=https://colab.research.google.com/notebooks/data_table.ipynb>data table notebook</a>'\n",
              "            + ' to learn more about interactive tables.';\n",
              "          element.innerHTML = '';\n",
              "          dataTable['output_type'] = 'display_data';\n",
              "          await google.colab.output.renderOutput(dataTable, element);\n",
              "          const docLink = document.createElement('div');\n",
              "          docLink.innerHTML = docLinkHtml;\n",
              "          element.appendChild(docLink);\n",
              "        }\n",
              "      </script>\n",
              "    </div>\n",
              "  </div>\n",
              "  "
            ]
          },
          "metadata": {},
          "execution_count": 15
        }
      ],
      "source": [
        "df.sample(10)"
      ]
    },
    {
      "cell_type": "code",
      "execution_count": 16,
      "metadata": {
        "id": "8B9wR7d789j-"
      },
      "outputs": [],
      "source": [
        "stemmer = SnowballStemmer(\"english\")"
      ]
    },
    {
      "cell_type": "code",
      "execution_count": 17,
      "metadata": {
        "id": "-7vplqEs9DF1",
        "colab": {
          "base_uri": "https://localhost:8080/"
        },
        "outputId": "35735d16-ebf9-4415-ffa9-5264ddfbc43f"
      },
      "outputs": [
        {
          "output_type": "stream",
          "name": "stdout",
          "text": [
            "Mengumpulkan kata...\n",
            "Waktu yang dibutuhkan 0.03646012299999768 detik\n"
          ]
        }
      ],
      "source": [
        "print('Mengumpulkan kata...')\n",
        "t0= time.perf_counter()\n",
        "df['text_stemmed'] = df['text_tokenized'].map(lambda l: [stemmer.stem(word) for word in l])\n",
        "t1= time.perf_counter() - t0\n",
        "print('Waktu yang dibutuhkan',t1 ,'detik')"
      ]
    },
    {
      "cell_type": "code",
      "execution_count": 18,
      "metadata": {
        "id": "ya3caIxQ9YnY",
        "colab": {
          "base_uri": "https://localhost:8080/",
          "height": 363
        },
        "outputId": "a4799795-d475-4b70-b00a-16da4e15fc10"
      },
      "outputs": [
        {
          "output_type": "execute_result",
          "data": {
            "text/plain": [
              "                                URL Label  \\\n",
              "500                       cekhki.id  good   \n",
              "197                 thatskygame.com  good   \n",
              "519                        uber.com  good   \n",
              "65                         sohu.com  good   \n",
              "545                  soundcloud.com  good   \n",
              "248               shop.vivo.com/id/  good   \n",
              "86                        tianya.cn  good   \n",
              "496  gridmotor.motorplus-online.com  good   \n",
              "522                      gghype.com  good   \n",
              "277        playruneterra.com/en-us/  good   \n",
              "\n",
              "                          text_tokenized                        text_stemmed  \n",
              "500                         [cekhki, id]                        [cekhki, id]  \n",
              "197                   [thatskygame, com]                   [thatskygam, com]  \n",
              "519                          [uber, com]                         [uber, com]  \n",
              "65                           [sohu, com]                         [sohu, com]  \n",
              "545                    [soundcloud, com]                   [soundcloud, com]  \n",
              "248                [shop, vivo, com, id]               [shop, vivo, com, id]  \n",
              "86                          [tianya, cn]                        [tianya, cn]  \n",
              "496  [gridmotor, motorplus, online, com]  [gridmotor, motorplus, onlin, com]  \n",
              "522                        [gghype, com]                       [gghype, com]  \n",
              "277         [playruneterra, com, en, us]        [playruneterra, com, en, us]  "
            ],
            "text/html": [
              "\n",
              "  <div id=\"df-070b7ce1-dc62-42c5-8c2a-5ca15a9bbbcb\">\n",
              "    <div class=\"colab-df-container\">\n",
              "      <div>\n",
              "<style scoped>\n",
              "    .dataframe tbody tr th:only-of-type {\n",
              "        vertical-align: middle;\n",
              "    }\n",
              "\n",
              "    .dataframe tbody tr th {\n",
              "        vertical-align: top;\n",
              "    }\n",
              "\n",
              "    .dataframe thead th {\n",
              "        text-align: right;\n",
              "    }\n",
              "</style>\n",
              "<table border=\"1\" class=\"dataframe\">\n",
              "  <thead>\n",
              "    <tr style=\"text-align: right;\">\n",
              "      <th></th>\n",
              "      <th>URL</th>\n",
              "      <th>Label</th>\n",
              "      <th>text_tokenized</th>\n",
              "      <th>text_stemmed</th>\n",
              "    </tr>\n",
              "  </thead>\n",
              "  <tbody>\n",
              "    <tr>\n",
              "      <th>500</th>\n",
              "      <td>cekhki.id</td>\n",
              "      <td>good</td>\n",
              "      <td>[cekhki, id]</td>\n",
              "      <td>[cekhki, id]</td>\n",
              "    </tr>\n",
              "    <tr>\n",
              "      <th>197</th>\n",
              "      <td>thatskygame.com</td>\n",
              "      <td>good</td>\n",
              "      <td>[thatskygame, com]</td>\n",
              "      <td>[thatskygam, com]</td>\n",
              "    </tr>\n",
              "    <tr>\n",
              "      <th>519</th>\n",
              "      <td>uber.com</td>\n",
              "      <td>good</td>\n",
              "      <td>[uber, com]</td>\n",
              "      <td>[uber, com]</td>\n",
              "    </tr>\n",
              "    <tr>\n",
              "      <th>65</th>\n",
              "      <td>sohu.com</td>\n",
              "      <td>good</td>\n",
              "      <td>[sohu, com]</td>\n",
              "      <td>[sohu, com]</td>\n",
              "    </tr>\n",
              "    <tr>\n",
              "      <th>545</th>\n",
              "      <td>soundcloud.com</td>\n",
              "      <td>good</td>\n",
              "      <td>[soundcloud, com]</td>\n",
              "      <td>[soundcloud, com]</td>\n",
              "    </tr>\n",
              "    <tr>\n",
              "      <th>248</th>\n",
              "      <td>shop.vivo.com/id/</td>\n",
              "      <td>good</td>\n",
              "      <td>[shop, vivo, com, id]</td>\n",
              "      <td>[shop, vivo, com, id]</td>\n",
              "    </tr>\n",
              "    <tr>\n",
              "      <th>86</th>\n",
              "      <td>tianya.cn</td>\n",
              "      <td>good</td>\n",
              "      <td>[tianya, cn]</td>\n",
              "      <td>[tianya, cn]</td>\n",
              "    </tr>\n",
              "    <tr>\n",
              "      <th>496</th>\n",
              "      <td>gridmotor.motorplus-online.com</td>\n",
              "      <td>good</td>\n",
              "      <td>[gridmotor, motorplus, online, com]</td>\n",
              "      <td>[gridmotor, motorplus, onlin, com]</td>\n",
              "    </tr>\n",
              "    <tr>\n",
              "      <th>522</th>\n",
              "      <td>gghype.com</td>\n",
              "      <td>good</td>\n",
              "      <td>[gghype, com]</td>\n",
              "      <td>[gghype, com]</td>\n",
              "    </tr>\n",
              "    <tr>\n",
              "      <th>277</th>\n",
              "      <td>playruneterra.com/en-us/</td>\n",
              "      <td>good</td>\n",
              "      <td>[playruneterra, com, en, us]</td>\n",
              "      <td>[playruneterra, com, en, us]</td>\n",
              "    </tr>\n",
              "  </tbody>\n",
              "</table>\n",
              "</div>\n",
              "      <button class=\"colab-df-convert\" onclick=\"convertToInteractive('df-070b7ce1-dc62-42c5-8c2a-5ca15a9bbbcb')\"\n",
              "              title=\"Convert this dataframe to an interactive table.\"\n",
              "              style=\"display:none;\">\n",
              "        \n",
              "  <svg xmlns=\"http://www.w3.org/2000/svg\" height=\"24px\"viewBox=\"0 0 24 24\"\n",
              "       width=\"24px\">\n",
              "    <path d=\"M0 0h24v24H0V0z\" fill=\"none\"/>\n",
              "    <path d=\"M18.56 5.44l.94 2.06.94-2.06 2.06-.94-2.06-.94-.94-2.06-.94 2.06-2.06.94zm-11 1L8.5 8.5l.94-2.06 2.06-.94-2.06-.94L8.5 2.5l-.94 2.06-2.06.94zm10 10l.94 2.06.94-2.06 2.06-.94-2.06-.94-.94-2.06-.94 2.06-2.06.94z\"/><path d=\"M17.41 7.96l-1.37-1.37c-.4-.4-.92-.59-1.43-.59-.52 0-1.04.2-1.43.59L10.3 9.45l-7.72 7.72c-.78.78-.78 2.05 0 2.83L4 21.41c.39.39.9.59 1.41.59.51 0 1.02-.2 1.41-.59l7.78-7.78 2.81-2.81c.8-.78.8-2.07 0-2.86zM5.41 20L4 18.59l7.72-7.72 1.47 1.35L5.41 20z\"/>\n",
              "  </svg>\n",
              "      </button>\n",
              "      \n",
              "  <style>\n",
              "    .colab-df-container {\n",
              "      display:flex;\n",
              "      flex-wrap:wrap;\n",
              "      gap: 12px;\n",
              "    }\n",
              "\n",
              "    .colab-df-convert {\n",
              "      background-color: #E8F0FE;\n",
              "      border: none;\n",
              "      border-radius: 50%;\n",
              "      cursor: pointer;\n",
              "      display: none;\n",
              "      fill: #1967D2;\n",
              "      height: 32px;\n",
              "      padding: 0 0 0 0;\n",
              "      width: 32px;\n",
              "    }\n",
              "\n",
              "    .colab-df-convert:hover {\n",
              "      background-color: #E2EBFA;\n",
              "      box-shadow: 0px 1px 2px rgba(60, 64, 67, 0.3), 0px 1px 3px 1px rgba(60, 64, 67, 0.15);\n",
              "      fill: #174EA6;\n",
              "    }\n",
              "\n",
              "    [theme=dark] .colab-df-convert {\n",
              "      background-color: #3B4455;\n",
              "      fill: #D2E3FC;\n",
              "    }\n",
              "\n",
              "    [theme=dark] .colab-df-convert:hover {\n",
              "      background-color: #434B5C;\n",
              "      box-shadow: 0px 1px 3px 1px rgba(0, 0, 0, 0.15);\n",
              "      filter: drop-shadow(0px 1px 2px rgba(0, 0, 0, 0.3));\n",
              "      fill: #FFFFFF;\n",
              "    }\n",
              "  </style>\n",
              "\n",
              "      <script>\n",
              "        const buttonEl =\n",
              "          document.querySelector('#df-070b7ce1-dc62-42c5-8c2a-5ca15a9bbbcb button.colab-df-convert');\n",
              "        buttonEl.style.display =\n",
              "          google.colab.kernel.accessAllowed ? 'block' : 'none';\n",
              "\n",
              "        async function convertToInteractive(key) {\n",
              "          const element = document.querySelector('#df-070b7ce1-dc62-42c5-8c2a-5ca15a9bbbcb');\n",
              "          const dataTable =\n",
              "            await google.colab.kernel.invokeFunction('convertToInteractive',\n",
              "                                                     [key], {});\n",
              "          if (!dataTable) return;\n",
              "\n",
              "          const docLinkHtml = 'Like what you see? Visit the ' +\n",
              "            '<a target=\"_blank\" href=https://colab.research.google.com/notebooks/data_table.ipynb>data table notebook</a>'\n",
              "            + ' to learn more about interactive tables.';\n",
              "          element.innerHTML = '';\n",
              "          dataTable['output_type'] = 'display_data';\n",
              "          await google.colab.output.renderOutput(dataTable, element);\n",
              "          const docLink = document.createElement('div');\n",
              "          docLink.innerHTML = docLinkHtml;\n",
              "          element.appendChild(docLink);\n",
              "        }\n",
              "      </script>\n",
              "    </div>\n",
              "  </div>\n",
              "  "
            ]
          },
          "metadata": {},
          "execution_count": 18
        }
      ],
      "source": [
        "df.sample(10)"
      ]
    },
    {
      "cell_type": "code",
      "execution_count": 19,
      "metadata": {
        "id": "LbfRpKBN9l81",
        "colab": {
          "base_uri": "https://localhost:8080/"
        },
        "outputId": "5f5708f8-e29c-4669-e4a4-5a4dec1383b2"
      },
      "outputs": [
        {
          "output_type": "stream",
          "name": "stdout",
          "text": [
            "Mengumpulkan kata...\n",
            "Waktu yang dibutuhkan 0.002016167999997265 detik\n"
          ]
        }
      ],
      "source": [
        "print('Mengumpulkan kata...')\n",
        "t0= time.perf_counter()\n",
        "df['text_sent'] = df['text_stemmed'].map(lambda l: ' '.join(l))\n",
        "t1= time.perf_counter() - t0\n",
        "print('Waktu yang dibutuhkan',t1 ,'detik')"
      ]
    },
    {
      "cell_type": "code",
      "execution_count": 20,
      "metadata": {
        "id": "WGGMT1Jr9v6J",
        "colab": {
          "base_uri": "https://localhost:8080/",
          "height": 407
        },
        "outputId": "b3fd0410-04b8-4f88-f587-7de18c8c32ad"
      },
      "outputs": [
        {
          "output_type": "execute_result",
          "data": {
            "text/plain": [
              "                                    URL Label  \\\n",
              "144                                t.me  good   \n",
              "495                         gridoto.com  good   \n",
              "431                  instagramreset.com   bad   \n",
              "323                         progate.com  good   \n",
              "286                          icloud.com  good   \n",
              "370     login-to-paypal.amin-telecom.pk   bad   \n",
              "197                     thatskygame.com  good   \n",
              "439                 steamcomnmunuty.com   bad   \n",
              "112                      ampproject.com  good   \n",
              "400  paypalservice.payment-reviewed.com   bad   \n",
              "\n",
              "                              text_tokenized  \\\n",
              "144                                  [t, me]   \n",
              "495                           [gridoto, com]   \n",
              "431                    [instagramreset, com]   \n",
              "323                           [progate, com]   \n",
              "286                            [icloud, com]   \n",
              "370   [login, to, paypal, amin, telecom, pk]   \n",
              "197                       [thatskygame, com]   \n",
              "439                   [steamcomnmunuty, com]   \n",
              "112                        [ampproject, com]   \n",
              "400  [paypalservice, payment, reviewed, com]   \n",
              "\n",
              "                               text_stemmed                        text_sent  \n",
              "144                                 [t, me]                             t me  \n",
              "495                          [gridoto, com]                      gridoto com  \n",
              "431                   [instagramreset, com]               instagramreset com  \n",
              "323                           [progat, com]                       progat com  \n",
              "286                           [icloud, com]                       icloud com  \n",
              "370  [login, to, paypal, amin, telecom, pk]  login to paypal amin telecom pk  \n",
              "197                       [thatskygam, com]                   thatskygam com  \n",
              "439                  [steamcomnmunuti, com]              steamcomnmunuti com  \n",
              "112                       [ampproject, com]                   ampproject com  \n",
              "400    [paypalservic, payment, review, com]  paypalservic payment review com  "
            ],
            "text/html": [
              "\n",
              "  <div id=\"df-d0f8cb77-37b5-4e14-8e3d-a25e10e3fd4b\">\n",
              "    <div class=\"colab-df-container\">\n",
              "      <div>\n",
              "<style scoped>\n",
              "    .dataframe tbody tr th:only-of-type {\n",
              "        vertical-align: middle;\n",
              "    }\n",
              "\n",
              "    .dataframe tbody tr th {\n",
              "        vertical-align: top;\n",
              "    }\n",
              "\n",
              "    .dataframe thead th {\n",
              "        text-align: right;\n",
              "    }\n",
              "</style>\n",
              "<table border=\"1\" class=\"dataframe\">\n",
              "  <thead>\n",
              "    <tr style=\"text-align: right;\">\n",
              "      <th></th>\n",
              "      <th>URL</th>\n",
              "      <th>Label</th>\n",
              "      <th>text_tokenized</th>\n",
              "      <th>text_stemmed</th>\n",
              "      <th>text_sent</th>\n",
              "    </tr>\n",
              "  </thead>\n",
              "  <tbody>\n",
              "    <tr>\n",
              "      <th>144</th>\n",
              "      <td>t.me</td>\n",
              "      <td>good</td>\n",
              "      <td>[t, me]</td>\n",
              "      <td>[t, me]</td>\n",
              "      <td>t me</td>\n",
              "    </tr>\n",
              "    <tr>\n",
              "      <th>495</th>\n",
              "      <td>gridoto.com</td>\n",
              "      <td>good</td>\n",
              "      <td>[gridoto, com]</td>\n",
              "      <td>[gridoto, com]</td>\n",
              "      <td>gridoto com</td>\n",
              "    </tr>\n",
              "    <tr>\n",
              "      <th>431</th>\n",
              "      <td>instagramreset.com</td>\n",
              "      <td>bad</td>\n",
              "      <td>[instagramreset, com]</td>\n",
              "      <td>[instagramreset, com]</td>\n",
              "      <td>instagramreset com</td>\n",
              "    </tr>\n",
              "    <tr>\n",
              "      <th>323</th>\n",
              "      <td>progate.com</td>\n",
              "      <td>good</td>\n",
              "      <td>[progate, com]</td>\n",
              "      <td>[progat, com]</td>\n",
              "      <td>progat com</td>\n",
              "    </tr>\n",
              "    <tr>\n",
              "      <th>286</th>\n",
              "      <td>icloud.com</td>\n",
              "      <td>good</td>\n",
              "      <td>[icloud, com]</td>\n",
              "      <td>[icloud, com]</td>\n",
              "      <td>icloud com</td>\n",
              "    </tr>\n",
              "    <tr>\n",
              "      <th>370</th>\n",
              "      <td>login-to-paypal.amin-telecom.pk</td>\n",
              "      <td>bad</td>\n",
              "      <td>[login, to, paypal, amin, telecom, pk]</td>\n",
              "      <td>[login, to, paypal, amin, telecom, pk]</td>\n",
              "      <td>login to paypal amin telecom pk</td>\n",
              "    </tr>\n",
              "    <tr>\n",
              "      <th>197</th>\n",
              "      <td>thatskygame.com</td>\n",
              "      <td>good</td>\n",
              "      <td>[thatskygame, com]</td>\n",
              "      <td>[thatskygam, com]</td>\n",
              "      <td>thatskygam com</td>\n",
              "    </tr>\n",
              "    <tr>\n",
              "      <th>439</th>\n",
              "      <td>steamcomnmunuty.com</td>\n",
              "      <td>bad</td>\n",
              "      <td>[steamcomnmunuty, com]</td>\n",
              "      <td>[steamcomnmunuti, com]</td>\n",
              "      <td>steamcomnmunuti com</td>\n",
              "    </tr>\n",
              "    <tr>\n",
              "      <th>112</th>\n",
              "      <td>ampproject.com</td>\n",
              "      <td>good</td>\n",
              "      <td>[ampproject, com]</td>\n",
              "      <td>[ampproject, com]</td>\n",
              "      <td>ampproject com</td>\n",
              "    </tr>\n",
              "    <tr>\n",
              "      <th>400</th>\n",
              "      <td>paypalservice.payment-reviewed.com</td>\n",
              "      <td>bad</td>\n",
              "      <td>[paypalservice, payment, reviewed, com]</td>\n",
              "      <td>[paypalservic, payment, review, com]</td>\n",
              "      <td>paypalservic payment review com</td>\n",
              "    </tr>\n",
              "  </tbody>\n",
              "</table>\n",
              "</div>\n",
              "      <button class=\"colab-df-convert\" onclick=\"convertToInteractive('df-d0f8cb77-37b5-4e14-8e3d-a25e10e3fd4b')\"\n",
              "              title=\"Convert this dataframe to an interactive table.\"\n",
              "              style=\"display:none;\">\n",
              "        \n",
              "  <svg xmlns=\"http://www.w3.org/2000/svg\" height=\"24px\"viewBox=\"0 0 24 24\"\n",
              "       width=\"24px\">\n",
              "    <path d=\"M0 0h24v24H0V0z\" fill=\"none\"/>\n",
              "    <path d=\"M18.56 5.44l.94 2.06.94-2.06 2.06-.94-2.06-.94-.94-2.06-.94 2.06-2.06.94zm-11 1L8.5 8.5l.94-2.06 2.06-.94-2.06-.94L8.5 2.5l-.94 2.06-2.06.94zm10 10l.94 2.06.94-2.06 2.06-.94-2.06-.94-.94-2.06-.94 2.06-2.06.94z\"/><path d=\"M17.41 7.96l-1.37-1.37c-.4-.4-.92-.59-1.43-.59-.52 0-1.04.2-1.43.59L10.3 9.45l-7.72 7.72c-.78.78-.78 2.05 0 2.83L4 21.41c.39.39.9.59 1.41.59.51 0 1.02-.2 1.41-.59l7.78-7.78 2.81-2.81c.8-.78.8-2.07 0-2.86zM5.41 20L4 18.59l7.72-7.72 1.47 1.35L5.41 20z\"/>\n",
              "  </svg>\n",
              "      </button>\n",
              "      \n",
              "  <style>\n",
              "    .colab-df-container {\n",
              "      display:flex;\n",
              "      flex-wrap:wrap;\n",
              "      gap: 12px;\n",
              "    }\n",
              "\n",
              "    .colab-df-convert {\n",
              "      background-color: #E8F0FE;\n",
              "      border: none;\n",
              "      border-radius: 50%;\n",
              "      cursor: pointer;\n",
              "      display: none;\n",
              "      fill: #1967D2;\n",
              "      height: 32px;\n",
              "      padding: 0 0 0 0;\n",
              "      width: 32px;\n",
              "    }\n",
              "\n",
              "    .colab-df-convert:hover {\n",
              "      background-color: #E2EBFA;\n",
              "      box-shadow: 0px 1px 2px rgba(60, 64, 67, 0.3), 0px 1px 3px 1px rgba(60, 64, 67, 0.15);\n",
              "      fill: #174EA6;\n",
              "    }\n",
              "\n",
              "    [theme=dark] .colab-df-convert {\n",
              "      background-color: #3B4455;\n",
              "      fill: #D2E3FC;\n",
              "    }\n",
              "\n",
              "    [theme=dark] .colab-df-convert:hover {\n",
              "      background-color: #434B5C;\n",
              "      box-shadow: 0px 1px 3px 1px rgba(0, 0, 0, 0.15);\n",
              "      filter: drop-shadow(0px 1px 2px rgba(0, 0, 0, 0.3));\n",
              "      fill: #FFFFFF;\n",
              "    }\n",
              "  </style>\n",
              "\n",
              "      <script>\n",
              "        const buttonEl =\n",
              "          document.querySelector('#df-d0f8cb77-37b5-4e14-8e3d-a25e10e3fd4b button.colab-df-convert');\n",
              "        buttonEl.style.display =\n",
              "          google.colab.kernel.accessAllowed ? 'block' : 'none';\n",
              "\n",
              "        async function convertToInteractive(key) {\n",
              "          const element = document.querySelector('#df-d0f8cb77-37b5-4e14-8e3d-a25e10e3fd4b');\n",
              "          const dataTable =\n",
              "            await google.colab.kernel.invokeFunction('convertToInteractive',\n",
              "                                                     [key], {});\n",
              "          if (!dataTable) return;\n",
              "\n",
              "          const docLinkHtml = 'Like what you see? Visit the ' +\n",
              "            '<a target=\"_blank\" href=https://colab.research.google.com/notebooks/data_table.ipynb>data table notebook</a>'\n",
              "            + ' to learn more about interactive tables.';\n",
              "          element.innerHTML = '';\n",
              "          dataTable['output_type'] = 'display_data';\n",
              "          await google.colab.output.renderOutput(dataTable, element);\n",
              "          const docLink = document.createElement('div');\n",
              "          docLink.innerHTML = docLinkHtml;\n",
              "          element.appendChild(docLink);\n",
              "        }\n",
              "      </script>\n",
              "    </div>\n",
              "  </div>\n",
              "  "
            ]
          },
          "metadata": {},
          "execution_count": 20
        }
      ],
      "source": [
        "df.sample(10)"
      ]
    },
    {
      "cell_type": "code",
      "execution_count": 21,
      "metadata": {
        "id": "H98e-Ki09zJb"
      },
      "outputs": [],
      "source": [
        "bad_sites = df[df.Label == 'bad']\n",
        "good_sites = df[df.Label == 'good']"
      ]
    },
    {
      "cell_type": "code",
      "execution_count": 22,
      "metadata": {
        "id": "UlGIWhFk98us",
        "colab": {
          "base_uri": "https://localhost:8080/",
          "height": 285
        },
        "outputId": "5c3e871f-4f87-4f3a-8c06-d0e83fb3f179"
      },
      "outputs": [
        {
          "output_type": "execute_result",
          "data": {
            "text/plain": [
              "                                                   URL Label  \\\n",
              "5                                  helps-instagram.com   bad   \n",
              "352                                   scr-paypal.co.uk   bad   \n",
              "353  paypal.com.myaccount.validation.jossy.psess565...   bad   \n",
              "354                                  virfy-paypaly.com   bad   \n",
              "355  paypal.approved.account.scr.cmd.check.services...   bad   \n",
              "\n",
              "                                        text_tokenized  \\\n",
              "5                              [helps, instagram, com]   \n",
              "352                              [scr, paypal, co, uk]   \n",
              "353  [paypal, com, myaccount, validation, jossy, ps...   \n",
              "354                              [virfy, paypaly, com]   \n",
              "355  [paypal, approved, account, scr, cmd, check, s...   \n",
              "\n",
              "                                          text_stemmed  \\\n",
              "5                               [help, instagram, com]   \n",
              "352                              [scr, paypal, co, uk]   \n",
              "353  [paypal, com, myaccount, valid, jossi, psess, ...   \n",
              "354                              [virfi, paypali, com]   \n",
              "355  [paypal, approv, account, scr, cmd, check, ser...   \n",
              "\n",
              "                                             text_sent  \n",
              "5                                   help instagram com  \n",
              "352                                   scr paypal co uk  \n",
              "353  paypal com myaccount valid jossi psess blesuit...  \n",
              "354                                  virfi paypali com  \n",
              "355  paypal approv account scr cmd check servic mem...  "
            ],
            "text/html": [
              "\n",
              "  <div id=\"df-f1203b88-9058-44be-a94d-dcb0d6a64916\">\n",
              "    <div class=\"colab-df-container\">\n",
              "      <div>\n",
              "<style scoped>\n",
              "    .dataframe tbody tr th:only-of-type {\n",
              "        vertical-align: middle;\n",
              "    }\n",
              "\n",
              "    .dataframe tbody tr th {\n",
              "        vertical-align: top;\n",
              "    }\n",
              "\n",
              "    .dataframe thead th {\n",
              "        text-align: right;\n",
              "    }\n",
              "</style>\n",
              "<table border=\"1\" class=\"dataframe\">\n",
              "  <thead>\n",
              "    <tr style=\"text-align: right;\">\n",
              "      <th></th>\n",
              "      <th>URL</th>\n",
              "      <th>Label</th>\n",
              "      <th>text_tokenized</th>\n",
              "      <th>text_stemmed</th>\n",
              "      <th>text_sent</th>\n",
              "    </tr>\n",
              "  </thead>\n",
              "  <tbody>\n",
              "    <tr>\n",
              "      <th>5</th>\n",
              "      <td>helps-instagram.com</td>\n",
              "      <td>bad</td>\n",
              "      <td>[helps, instagram, com]</td>\n",
              "      <td>[help, instagram, com]</td>\n",
              "      <td>help instagram com</td>\n",
              "    </tr>\n",
              "    <tr>\n",
              "      <th>352</th>\n",
              "      <td>scr-paypal.co.uk</td>\n",
              "      <td>bad</td>\n",
              "      <td>[scr, paypal, co, uk]</td>\n",
              "      <td>[scr, paypal, co, uk]</td>\n",
              "      <td>scr paypal co uk</td>\n",
              "    </tr>\n",
              "    <tr>\n",
              "      <th>353</th>\n",
              "      <td>paypal.com.myaccount.validation.jossy.psess565...</td>\n",
              "      <td>bad</td>\n",
              "      <td>[paypal, com, myaccount, validation, jossy, ps...</td>\n",
              "      <td>[paypal, com, myaccount, valid, jossi, psess, ...</td>\n",
              "      <td>paypal com myaccount valid jossi psess blesuit...</td>\n",
              "    </tr>\n",
              "    <tr>\n",
              "      <th>354</th>\n",
              "      <td>virfy-paypaly.com</td>\n",
              "      <td>bad</td>\n",
              "      <td>[virfy, paypaly, com]</td>\n",
              "      <td>[virfi, paypali, com]</td>\n",
              "      <td>virfi paypali com</td>\n",
              "    </tr>\n",
              "    <tr>\n",
              "      <th>355</th>\n",
              "      <td>paypal.approved.account.scr.cmd.check.services...</td>\n",
              "      <td>bad</td>\n",
              "      <td>[paypal, approved, account, scr, cmd, check, s...</td>\n",
              "      <td>[paypal, approv, account, scr, cmd, check, ser...</td>\n",
              "      <td>paypal approv account scr cmd check servic mem...</td>\n",
              "    </tr>\n",
              "  </tbody>\n",
              "</table>\n",
              "</div>\n",
              "      <button class=\"colab-df-convert\" onclick=\"convertToInteractive('df-f1203b88-9058-44be-a94d-dcb0d6a64916')\"\n",
              "              title=\"Convert this dataframe to an interactive table.\"\n",
              "              style=\"display:none;\">\n",
              "        \n",
              "  <svg xmlns=\"http://www.w3.org/2000/svg\" height=\"24px\"viewBox=\"0 0 24 24\"\n",
              "       width=\"24px\">\n",
              "    <path d=\"M0 0h24v24H0V0z\" fill=\"none\"/>\n",
              "    <path d=\"M18.56 5.44l.94 2.06.94-2.06 2.06-.94-2.06-.94-.94-2.06-.94 2.06-2.06.94zm-11 1L8.5 8.5l.94-2.06 2.06-.94-2.06-.94L8.5 2.5l-.94 2.06-2.06.94zm10 10l.94 2.06.94-2.06 2.06-.94-2.06-.94-.94-2.06-.94 2.06-2.06.94z\"/><path d=\"M17.41 7.96l-1.37-1.37c-.4-.4-.92-.59-1.43-.59-.52 0-1.04.2-1.43.59L10.3 9.45l-7.72 7.72c-.78.78-.78 2.05 0 2.83L4 21.41c.39.39.9.59 1.41.59.51 0 1.02-.2 1.41-.59l7.78-7.78 2.81-2.81c.8-.78.8-2.07 0-2.86zM5.41 20L4 18.59l7.72-7.72 1.47 1.35L5.41 20z\"/>\n",
              "  </svg>\n",
              "      </button>\n",
              "      \n",
              "  <style>\n",
              "    .colab-df-container {\n",
              "      display:flex;\n",
              "      flex-wrap:wrap;\n",
              "      gap: 12px;\n",
              "    }\n",
              "\n",
              "    .colab-df-convert {\n",
              "      background-color: #E8F0FE;\n",
              "      border: none;\n",
              "      border-radius: 50%;\n",
              "      cursor: pointer;\n",
              "      display: none;\n",
              "      fill: #1967D2;\n",
              "      height: 32px;\n",
              "      padding: 0 0 0 0;\n",
              "      width: 32px;\n",
              "    }\n",
              "\n",
              "    .colab-df-convert:hover {\n",
              "      background-color: #E2EBFA;\n",
              "      box-shadow: 0px 1px 2px rgba(60, 64, 67, 0.3), 0px 1px 3px 1px rgba(60, 64, 67, 0.15);\n",
              "      fill: #174EA6;\n",
              "    }\n",
              "\n",
              "    [theme=dark] .colab-df-convert {\n",
              "      background-color: #3B4455;\n",
              "      fill: #D2E3FC;\n",
              "    }\n",
              "\n",
              "    [theme=dark] .colab-df-convert:hover {\n",
              "      background-color: #434B5C;\n",
              "      box-shadow: 0px 1px 3px 1px rgba(0, 0, 0, 0.15);\n",
              "      filter: drop-shadow(0px 1px 2px rgba(0, 0, 0, 0.3));\n",
              "      fill: #FFFFFF;\n",
              "    }\n",
              "  </style>\n",
              "\n",
              "      <script>\n",
              "        const buttonEl =\n",
              "          document.querySelector('#df-f1203b88-9058-44be-a94d-dcb0d6a64916 button.colab-df-convert');\n",
              "        buttonEl.style.display =\n",
              "          google.colab.kernel.accessAllowed ? 'block' : 'none';\n",
              "\n",
              "        async function convertToInteractive(key) {\n",
              "          const element = document.querySelector('#df-f1203b88-9058-44be-a94d-dcb0d6a64916');\n",
              "          const dataTable =\n",
              "            await google.colab.kernel.invokeFunction('convertToInteractive',\n",
              "                                                     [key], {});\n",
              "          if (!dataTable) return;\n",
              "\n",
              "          const docLinkHtml = 'Like what you see? Visit the ' +\n",
              "            '<a target=\"_blank\" href=https://colab.research.google.com/notebooks/data_table.ipynb>data table notebook</a>'\n",
              "            + ' to learn more about interactive tables.';\n",
              "          element.innerHTML = '';\n",
              "          dataTable['output_type'] = 'display_data';\n",
              "          await google.colab.output.renderOutput(dataTable, element);\n",
              "          const docLink = document.createElement('div');\n",
              "          docLink.innerHTML = docLinkHtml;\n",
              "          element.appendChild(docLink);\n",
              "        }\n",
              "      </script>\n",
              "    </div>\n",
              "  </div>\n",
              "  "
            ]
          },
          "metadata": {},
          "execution_count": 22
        }
      ],
      "source": [
        "bad_sites.head()"
      ]
    },
    {
      "cell_type": "code",
      "execution_count": 23,
      "metadata": {
        "id": "DAiDm1kC-Cav",
        "colab": {
          "base_uri": "https://localhost:8080/",
          "height": 206
        },
        "outputId": "e03e6341-2502-461d-b8a2-cdae225753ec"
      },
      "outputs": [
        {
          "output_type": "execute_result",
          "data": {
            "text/plain": [
              "                     URL Label           text_tokenized  \\\n",
              "0           facebook.com  good          [facebook, com]   \n",
              "1     https://google.com  good     [https, google, com]   \n",
              "2            twitter.com  good           [twitter, com]   \n",
              "3          tokopedia.com  good         [tokopedia, com]   \n",
              "4  https://instagram.com  good  [https, instagram, com]   \n",
              "\n",
              "              text_stemmed            text_sent  \n",
              "0          [facebook, com]         facebook com  \n",
              "1      [https, googl, com]      https googl com  \n",
              "2           [twitter, com]          twitter com  \n",
              "3         [tokopedia, com]        tokopedia com  \n",
              "4  [https, instagram, com]  https instagram com  "
            ],
            "text/html": [
              "\n",
              "  <div id=\"df-0f739973-1499-4579-b5a8-d0bdbba43c7f\">\n",
              "    <div class=\"colab-df-container\">\n",
              "      <div>\n",
              "<style scoped>\n",
              "    .dataframe tbody tr th:only-of-type {\n",
              "        vertical-align: middle;\n",
              "    }\n",
              "\n",
              "    .dataframe tbody tr th {\n",
              "        vertical-align: top;\n",
              "    }\n",
              "\n",
              "    .dataframe thead th {\n",
              "        text-align: right;\n",
              "    }\n",
              "</style>\n",
              "<table border=\"1\" class=\"dataframe\">\n",
              "  <thead>\n",
              "    <tr style=\"text-align: right;\">\n",
              "      <th></th>\n",
              "      <th>URL</th>\n",
              "      <th>Label</th>\n",
              "      <th>text_tokenized</th>\n",
              "      <th>text_stemmed</th>\n",
              "      <th>text_sent</th>\n",
              "    </tr>\n",
              "  </thead>\n",
              "  <tbody>\n",
              "    <tr>\n",
              "      <th>0</th>\n",
              "      <td>facebook.com</td>\n",
              "      <td>good</td>\n",
              "      <td>[facebook, com]</td>\n",
              "      <td>[facebook, com]</td>\n",
              "      <td>facebook com</td>\n",
              "    </tr>\n",
              "    <tr>\n",
              "      <th>1</th>\n",
              "      <td>https://google.com</td>\n",
              "      <td>good</td>\n",
              "      <td>[https, google, com]</td>\n",
              "      <td>[https, googl, com]</td>\n",
              "      <td>https googl com</td>\n",
              "    </tr>\n",
              "    <tr>\n",
              "      <th>2</th>\n",
              "      <td>twitter.com</td>\n",
              "      <td>good</td>\n",
              "      <td>[twitter, com]</td>\n",
              "      <td>[twitter, com]</td>\n",
              "      <td>twitter com</td>\n",
              "    </tr>\n",
              "    <tr>\n",
              "      <th>3</th>\n",
              "      <td>tokopedia.com</td>\n",
              "      <td>good</td>\n",
              "      <td>[tokopedia, com]</td>\n",
              "      <td>[tokopedia, com]</td>\n",
              "      <td>tokopedia com</td>\n",
              "    </tr>\n",
              "    <tr>\n",
              "      <th>4</th>\n",
              "      <td>https://instagram.com</td>\n",
              "      <td>good</td>\n",
              "      <td>[https, instagram, com]</td>\n",
              "      <td>[https, instagram, com]</td>\n",
              "      <td>https instagram com</td>\n",
              "    </tr>\n",
              "  </tbody>\n",
              "</table>\n",
              "</div>\n",
              "      <button class=\"colab-df-convert\" onclick=\"convertToInteractive('df-0f739973-1499-4579-b5a8-d0bdbba43c7f')\"\n",
              "              title=\"Convert this dataframe to an interactive table.\"\n",
              "              style=\"display:none;\">\n",
              "        \n",
              "  <svg xmlns=\"http://www.w3.org/2000/svg\" height=\"24px\"viewBox=\"0 0 24 24\"\n",
              "       width=\"24px\">\n",
              "    <path d=\"M0 0h24v24H0V0z\" fill=\"none\"/>\n",
              "    <path d=\"M18.56 5.44l.94 2.06.94-2.06 2.06-.94-2.06-.94-.94-2.06-.94 2.06-2.06.94zm-11 1L8.5 8.5l.94-2.06 2.06-.94-2.06-.94L8.5 2.5l-.94 2.06-2.06.94zm10 10l.94 2.06.94-2.06 2.06-.94-2.06-.94-.94-2.06-.94 2.06-2.06.94z\"/><path d=\"M17.41 7.96l-1.37-1.37c-.4-.4-.92-.59-1.43-.59-.52 0-1.04.2-1.43.59L10.3 9.45l-7.72 7.72c-.78.78-.78 2.05 0 2.83L4 21.41c.39.39.9.59 1.41.59.51 0 1.02-.2 1.41-.59l7.78-7.78 2.81-2.81c.8-.78.8-2.07 0-2.86zM5.41 20L4 18.59l7.72-7.72 1.47 1.35L5.41 20z\"/>\n",
              "  </svg>\n",
              "      </button>\n",
              "      \n",
              "  <style>\n",
              "    .colab-df-container {\n",
              "      display:flex;\n",
              "      flex-wrap:wrap;\n",
              "      gap: 12px;\n",
              "    }\n",
              "\n",
              "    .colab-df-convert {\n",
              "      background-color: #E8F0FE;\n",
              "      border: none;\n",
              "      border-radius: 50%;\n",
              "      cursor: pointer;\n",
              "      display: none;\n",
              "      fill: #1967D2;\n",
              "      height: 32px;\n",
              "      padding: 0 0 0 0;\n",
              "      width: 32px;\n",
              "    }\n",
              "\n",
              "    .colab-df-convert:hover {\n",
              "      background-color: #E2EBFA;\n",
              "      box-shadow: 0px 1px 2px rgba(60, 64, 67, 0.3), 0px 1px 3px 1px rgba(60, 64, 67, 0.15);\n",
              "      fill: #174EA6;\n",
              "    }\n",
              "\n",
              "    [theme=dark] .colab-df-convert {\n",
              "      background-color: #3B4455;\n",
              "      fill: #D2E3FC;\n",
              "    }\n",
              "\n",
              "    [theme=dark] .colab-df-convert:hover {\n",
              "      background-color: #434B5C;\n",
              "      box-shadow: 0px 1px 3px 1px rgba(0, 0, 0, 0.15);\n",
              "      filter: drop-shadow(0px 1px 2px rgba(0, 0, 0, 0.3));\n",
              "      fill: #FFFFFF;\n",
              "    }\n",
              "  </style>\n",
              "\n",
              "      <script>\n",
              "        const buttonEl =\n",
              "          document.querySelector('#df-0f739973-1499-4579-b5a8-d0bdbba43c7f button.colab-df-convert');\n",
              "        buttonEl.style.display =\n",
              "          google.colab.kernel.accessAllowed ? 'block' : 'none';\n",
              "\n",
              "        async function convertToInteractive(key) {\n",
              "          const element = document.querySelector('#df-0f739973-1499-4579-b5a8-d0bdbba43c7f');\n",
              "          const dataTable =\n",
              "            await google.colab.kernel.invokeFunction('convertToInteractive',\n",
              "                                                     [key], {});\n",
              "          if (!dataTable) return;\n",
              "\n",
              "          const docLinkHtml = 'Like what you see? Visit the ' +\n",
              "            '<a target=\"_blank\" href=https://colab.research.google.com/notebooks/data_table.ipynb>data table notebook</a>'\n",
              "            + ' to learn more about interactive tables.';\n",
              "          element.innerHTML = '';\n",
              "          dataTable['output_type'] = 'display_data';\n",
              "          await google.colab.output.renderOutput(dataTable, element);\n",
              "          const docLink = document.createElement('div');\n",
              "          docLink.innerHTML = docLinkHtml;\n",
              "          element.appendChild(docLink);\n",
              "        }\n",
              "      </script>\n",
              "    </div>\n",
              "  </div>\n",
              "  "
            ]
          },
          "metadata": {},
          "execution_count": 23
        }
      ],
      "source": [
        "good_sites.head()"
      ]
    },
    {
      "cell_type": "code",
      "execution_count": 24,
      "metadata": {
        "id": "mrvnMvnD-M5v"
      },
      "outputs": [],
      "source": [
        "def plot_wordcloud(text, mask=None, max_words=400, max_font_size=120, figure_size=(24.0,16.0), \n",
        "                   title = None, title_size=40, image_color=False):\n",
        "    stopwords = set(STOPWORDS)\n",
        "    more_stopwords = {'com','http'}\n",
        "    stopwords = stopwords.union(more_stopwords)\n",
        "\n",
        "    wordcloud = WordCloud(background_color='white',\n",
        "                    stopwords = stopwords,\n",
        "                    max_words = max_words,\n",
        "                    max_font_size = max_font_size, \n",
        "                    random_state = 42,\n",
        "                    mask = mask)\n",
        "    wordcloud.generate(text)\n",
        "    \n",
        "    plt.figure(figsize=figure_size)\n",
        "    if image_color:\n",
        "        image_colors = ImageColorGenerator(mask);\n",
        "        plt.imshow(wordcloud.recolor(color_func=image_colors), interpolation=\"bilinear\");\n",
        "        plt.title(title, fontdict={'size': title_size,  \n",
        "                                  'verticalalignment': 'bottom'})\n",
        "    else:\n",
        "        plt.imshow(wordcloud);\n",
        "        plt.title(title, fontdict={'size': title_size, 'color': 'green', \n",
        "                                  'verticalalignment': 'bottom'})\n",
        "    plt.axis('off');\n",
        "    plt.tight_layout()  "
      ]
    },
    {
      "cell_type": "code",
      "execution_count": 25,
      "metadata": {
        "id": "ts4LweyP-T3P"
      },
      "outputs": [],
      "source": [
        "data = good_sites.text_sent\n",
        "data.reset_index(drop=True, inplace=True)"
      ]
    },
    {
      "cell_type": "code",
      "execution_count": 26,
      "metadata": {
        "id": "04ork77c-Zqi"
      },
      "outputs": [],
      "source": [
        "data = bad_sites.text_sent\n",
        "data.reset_index(drop=True, inplace=True)"
      ]
    },
    {
      "cell_type": "markdown",
      "metadata": {
        "id": "naUbSno0ImA_"
      },
      "source": [
        "# **Modelling**\n",
        "---\n",
        "Pada tahap ini saya mengembangkan model dengan menggunakan algoritma `logistic regression` dan `Multinomial Naive Bayes`."
      ]
    },
    {
      "cell_type": "code",
      "execution_count": 27,
      "metadata": {
        "id": "z1uyvNvM-i10"
      },
      "outputs": [],
      "source": [
        "cv = CountVectorizer()"
      ]
    },
    {
      "cell_type": "code",
      "execution_count": 28,
      "metadata": {
        "id": "rd0KJr7sADP7"
      },
      "outputs": [],
      "source": [
        "feature = cv.fit_transform(df.text_sent)"
      ]
    },
    {
      "cell_type": "code",
      "execution_count": 29,
      "metadata": {
        "id": "_Fc4Rd_vAKu_",
        "colab": {
          "base_uri": "https://localhost:8080/"
        },
        "outputId": "7fe0d538-f316-48bb-dc9b-4223373be555"
      },
      "outputs": [
        {
          "output_type": "execute_result",
          "data": {
            "text/plain": [
              "array([[0, 0, 0, ..., 0, 0, 0],\n",
              "       [0, 0, 0, ..., 0, 0, 0],\n",
              "       [0, 0, 0, ..., 0, 0, 0],\n",
              "       [0, 0, 0, ..., 0, 0, 0],\n",
              "       [0, 0, 0, ..., 0, 0, 0]])"
            ]
          },
          "metadata": {},
          "execution_count": 29
        }
      ],
      "source": [
        "feature[:5].toarray()"
      ]
    },
    {
      "cell_type": "code",
      "execution_count": 30,
      "metadata": {
        "id": "SHAdZlBmANYX"
      },
      "outputs": [],
      "source": [
        "trainX, testX, trainY, testY = train_test_split(feature, df.Label)"
      ]
    },
    {
      "cell_type": "markdown",
      "source": [
        "<H3> Logistic Regression"
      ],
      "metadata": {
        "id": "A_pTCzGFMGzT"
      }
    },
    {
      "cell_type": "code",
      "execution_count": 31,
      "metadata": {
        "id": "rB2vpc91AQsw",
        "colab": {
          "base_uri": "https://localhost:8080/"
        },
        "outputId": "98681927-031e-48bb-e658-b8784a489f8c"
      },
      "outputs": [
        {
          "output_type": "execute_result",
          "data": {
            "text/plain": [
              "LogisticRegression()"
            ]
          },
          "metadata": {},
          "execution_count": 31
        }
      ],
      "source": [
        "lr = LogisticRegression()\n",
        "lr.fit(trainX,trainY)"
      ]
    },
    {
      "cell_type": "code",
      "execution_count": 32,
      "metadata": {
        "id": "73mIMC-QAZQn",
        "colab": {
          "base_uri": "https://localhost:8080/"
        },
        "outputId": "78a8b8a3-683f-4296-afda-28b4d9468a22"
      },
      "outputs": [
        {
          "output_type": "execute_result",
          "data": {
            "text/plain": [
              "0.935251798561151"
            ]
          },
          "metadata": {},
          "execution_count": 32
        }
      ],
      "source": [
        "lr.score(testX,testY)"
      ]
    },
    {
      "cell_type": "code",
      "execution_count": 33,
      "metadata": {
        "id": "q1RX0FyMAcez"
      },
      "outputs": [],
      "source": [
        "Scores_ml = {}\n",
        "Scores_ml['Logistic Regression'] = np.round(lr.score(testX,testY),2)"
      ]
    },
    {
      "cell_type": "code",
      "execution_count": 34,
      "metadata": {
        "id": "k5JUBx47Ae1A",
        "colab": {
          "base_uri": "https://localhost:8080/"
        },
        "outputId": "8b3eeee8-ad3b-471f-eedd-129844b673a5"
      },
      "outputs": [
        {
          "output_type": "stream",
          "name": "stdout",
          "text": [
            "Training Accuracy : 0.9542168674698795\n",
            "Testing Accuracy : 0.935251798561151\n"
          ]
        }
      ],
      "source": [
        "print('Training Accuracy :',lr.score(trainX,trainY))\n",
        "print('Testing Accuracy :',lr.score(testX,testY))\n",
        "con_mat = pd.DataFrame(confusion_matrix(lr.predict(testX), testY),\n",
        "            columns = ['Predicted:Bad', 'Predicted:Good'],\n",
        "            index = ['Actual:Bad', 'Actual:Good'])"
      ]
    },
    {
      "cell_type": "code",
      "execution_count": 35,
      "metadata": {
        "id": "tislKzBFAkxx",
        "colab": {
          "base_uri": "https://localhost:8080/"
        },
        "outputId": "da07bc74-6c6e-4495-c53e-25a35bb59d32"
      },
      "outputs": [
        {
          "output_type": "stream",
          "name": "stdout",
          "text": [
            "\n",
            "CLASSIFICATION REPORT\n",
            "\n",
            "              precision    recall  f1-score   support\n",
            "\n",
            "         Bad       0.67      0.94      0.78        17\n",
            "        Good       0.99      0.93      0.96       122\n",
            "\n",
            "    accuracy                           0.94       139\n",
            "   macro avg       0.83      0.94      0.87       139\n",
            "weighted avg       0.95      0.94      0.94       139\n",
            "\n"
          ]
        }
      ],
      "source": [
        "print('\\nCLASSIFICATION REPORT\\n')\n",
        "print(classification_report(lr.predict(testX), testY,\n",
        "                            target_names =['Bad','Good']))"
      ]
    },
    {
      "cell_type": "code",
      "execution_count": 36,
      "metadata": {
        "id": "2TauygI5ApA0",
        "colab": {
          "base_uri": "https://localhost:8080/",
          "height": 317
        },
        "outputId": "9d5abaed-c2ae-4869-f213-aba5ea5e0bdb"
      },
      "outputs": [
        {
          "output_type": "stream",
          "name": "stdout",
          "text": [
            "\n",
            "CONFUSION MATRIX\n"
          ]
        },
        {
          "output_type": "execute_result",
          "data": {
            "text/plain": [
              "<matplotlib.axes._subplots.AxesSubplot at 0x7f0d0478f3d0>"
            ]
          },
          "metadata": {},
          "execution_count": 36
        },
        {
          "output_type": "display_data",
          "data": {
            "text/plain": [
              "<Figure size 432x288 with 2 Axes>"
            ],
            "image/png": "[encoded data removed]"
          },
          "metadata": {}
        }
      ],
      "source": [
        "print('\\nCONFUSION MATRIX')\n",
        "plt.figure(figsize= (6,4))\n",
        "sns.heatmap(con_mat, annot = True,fmt='d',cmap=\"YlGnBu\")"
      ]
    },
    {
      "cell_type": "markdown",
      "source": [
        "<H3>Multinomial Naive Bayes"
      ],
      "metadata": {
        "id": "I-6tfl_RMMda"
      }
    },
    {
      "cell_type": "code",
      "execution_count": 37,
      "metadata": {
        "id": "_l3yDpIXArZO",
        "colab": {
          "base_uri": "https://localhost:8080/"
        },
        "outputId": "2d8d5e4a-15eb-411e-bc20-5948ad6a23a7"
      },
      "outputs": [
        {
          "output_type": "execute_result",
          "data": {
            "text/plain": [
              "MultinomialNB()"
            ]
          },
          "metadata": {},
          "execution_count": 37
        }
      ],
      "source": [
        "mnb = MultinomialNB()\n",
        "mnb.fit(trainX,trainY)"
      ]
    },
    {
      "cell_type": "code",
      "execution_count": 38,
      "metadata": {
        "id": "UBKyrhmdAwyc",
        "colab": {
          "base_uri": "https://localhost:8080/"
        },
        "outputId": "1879432f-2273-4a44-cd44-aaff56686b3d"
      },
      "outputs": [
        {
          "output_type": "execute_result",
          "data": {
            "text/plain": [
              "0.9496402877697842"
            ]
          },
          "metadata": {},
          "execution_count": 38
        }
      ],
      "source": [
        "mnb.score(testX,testY)"
      ]
    },
    {
      "cell_type": "code",
      "execution_count": 39,
      "metadata": {
        "id": "uZgAK6exA3T6"
      },
      "outputs": [],
      "source": [
        "Scores_ml['MultinomialNB'] = np.round(mnb.score(testX,testY),2)"
      ]
    },
    {
      "cell_type": "code",
      "execution_count": 40,
      "metadata": {
        "id": "Wft0Ak2cA5IB",
        "colab": {
          "base_uri": "https://localhost:8080/"
        },
        "outputId": "546b05f6-fc26-49d8-e8c2-c77d4d25a4a3"
      },
      "outputs": [
        {
          "output_type": "stream",
          "name": "stdout",
          "text": [
            "Training Accuracy : 0.983132530120482\n",
            "Testing Accuracy : 0.9496402877697842\n"
          ]
        }
      ],
      "source": [
        "print('Training Accuracy :',mnb.score(trainX,trainY))\n",
        "print('Testing Accuracy :',mnb.score(testX,testY))\n",
        "con_mat = pd.DataFrame(confusion_matrix(mnb.predict(testX), testY),\n",
        "            columns = ['Predicted:Bad', 'Predicted:Good'],\n",
        "            index = ['Actual:Bad', 'Actual:Good'])"
      ]
    },
    {
      "cell_type": "code",
      "execution_count": 41,
      "metadata": {
        "id": "Rni2eqpyA8cv",
        "colab": {
          "base_uri": "https://localhost:8080/"
        },
        "outputId": "0132704c-efa9-4a24-e714-37a35c174ec9"
      },
      "outputs": [
        {
          "output_type": "stream",
          "name": "stdout",
          "text": [
            "\n",
            "CLASSIFICATION REPORT\n",
            "\n",
            "              precision    recall  f1-score   support\n",
            "\n",
            "         Bad       0.75      0.95      0.84        19\n",
            "        Good       0.99      0.95      0.97       120\n",
            "\n",
            "    accuracy                           0.95       139\n",
            "   macro avg       0.87      0.95      0.90       139\n",
            "weighted avg       0.96      0.95      0.95       139\n",
            "\n"
          ]
        }
      ],
      "source": [
        "print('\\nCLASSIFICATION REPORT\\n')\n",
        "print(classification_report(mnb.predict(testX), testY,\n",
        "                            target_names =['Bad','Good']))"
      ]
    },
    {
      "cell_type": "code",
      "execution_count": 42,
      "metadata": {
        "id": "xXVoI6yCBAwR",
        "colab": {
          "base_uri": "https://localhost:8080/",
          "height": 317
        },
        "outputId": "cddc233f-16fd-4a2d-dbfe-b1b634267051"
      },
      "outputs": [
        {
          "output_type": "stream",
          "name": "stdout",
          "text": [
            "\n",
            "CONFUSION MATRIX\n"
          ]
        },
        {
          "output_type": "execute_result",
          "data": {
            "text/plain": [
              "<matplotlib.axes._subplots.AxesSubplot at 0x7f0d047777d0>"
            ]
          },
          "metadata": {},
          "execution_count": 42
        },
        {
          "output_type": "display_data",
          "data": {
            "text/plain": [
              "<Figure size 432x288 with 2 Axes>"
            ],
            "image/png": "[encoded data removed]"
          },
          "metadata": {}
        }
      ],
      "source": [
        "print('\\nCONFUSION MATRIX')\n",
        "plt.figure(figsize= (6,4))\n",
        "sns.heatmap(con_mat, annot = True,fmt='d',cmap=\"YlGnBu\")"
      ]
    },
    {
      "cell_type": "markdown",
      "source": [
        "<H3> S V M"
      ],
      "metadata": {
        "id": "WfsUMMVHMZ7F"
      }
    },
    {
      "cell_type": "code",
      "source": [
        "supp = SVC()\n",
        "supp.fit(trainX,trainY)"
      ],
      "metadata": {
        "colab": {
          "base_uri": "https://localhost:8080/"
        },
        "id": "1joX_qb-MZSY",
        "outputId": "975407e2-2d85-4902-e591-0fa958e2b559"
      },
      "execution_count": 43,
      "outputs": [
        {
          "output_type": "execute_result",
          "data": {
            "text/plain": [
              "SVC()"
            ]
          },
          "metadata": {},
          "execution_count": 43
        }
      ]
    },
    {
      "cell_type": "code",
      "source": [
        "supp.score(testX,testY)"
      ],
      "metadata": {
        "colab": {
          "base_uri": "https://localhost:8080/"
        },
        "id": "4aoj7tOaMZMK",
        "outputId": "c7ce3d3b-03d0-4bf0-f6de-2f0860ae6cf1"
      },
      "execution_count": 44,
      "outputs": [
        {
          "output_type": "execute_result",
          "data": {
            "text/plain": [
              "0.9496402877697842"
            ]
          },
          "metadata": {},
          "execution_count": 44
        }
      ]
    },
    {
      "cell_type": "code",
      "source": [
        "Scores_ml['SVC'] = np.round(supp.score(testX,testY),2)"
      ],
      "metadata": {
        "id": "GOnWdEE1MZFA"
      },
      "execution_count": 45,
      "outputs": []
    },
    {
      "cell_type": "code",
      "source": [
        "print('Training Accuracy :',supp.score(trainX,trainY))\n",
        "print('Testing Accuracy :',supp.score(testX,testY))\n",
        "con_mat = pd.DataFrame(confusion_matrix(supp.predict(testX), testY),\n",
        "            columns = ['Predicted:Bad', 'Predicted:Good'],\n",
        "            index = ['Actual:Bad', 'Actual:Good'])"
      ],
      "metadata": {
        "colab": {
          "base_uri": "https://localhost:8080/"
        },
        "id": "AwDA-jIvMY-K",
        "outputId": "362e7285-e797-4864-8d93-a2ae6b99ff60"
      },
      "execution_count": 46,
      "outputs": [
        {
          "output_type": "stream",
          "name": "stdout",
          "text": [
            "Training Accuracy : 0.9855421686746988\n",
            "Testing Accuracy : 0.9496402877697842\n"
          ]
        }
      ]
    },
    {
      "cell_type": "code",
      "source": [
        "print('\\nCLASSIFICATION REPORT\\n')\n",
        "print(classification_report(supp.predict(testX), testY,\n",
        "                            target_names =['Bad','Good']))"
      ],
      "metadata": {
        "colab": {
          "base_uri": "https://localhost:8080/"
        },
        "id": "qo9vz0w6MY2e",
        "outputId": "df3b7f9f-cd97-45ee-808a-7b02d76a1cac"
      },
      "execution_count": 47,
      "outputs": [
        {
          "output_type": "stream",
          "name": "stdout",
          "text": [
            "\n",
            "CLASSIFICATION REPORT\n",
            "\n",
            "              precision    recall  f1-score   support\n",
            "\n",
            "         Bad       0.83      0.87      0.85        23\n",
            "        Good       0.97      0.97      0.97       116\n",
            "\n",
            "    accuracy                           0.95       139\n",
            "   macro avg       0.90      0.92      0.91       139\n",
            "weighted avg       0.95      0.95      0.95       139\n",
            "\n"
          ]
        }
      ]
    },
    {
      "cell_type": "code",
      "source": [
        "print('\\nCONFUSION MATRIX')\n",
        "plt.figure(figsize= (6,4))\n",
        "sns.heatmap(con_mat, annot = True,fmt='d',cmap=\"YlGnBu\")"
      ],
      "metadata": {
        "colab": {
          "base_uri": "https://localhost:8080/",
          "height": 317
        },
        "id": "2lo3dmhZMYuW",
        "outputId": "106c7e56-b24a-4747-cfe6-a7c90ab35c6e"
      },
      "execution_count": 48,
      "outputs": [
        {
          "output_type": "stream",
          "name": "stdout",
          "text": [
            "\n",
            "CONFUSION MATRIX\n"
          ]
        },
        {
          "output_type": "execute_result",
          "data": {
            "text/plain": [
              "<matplotlib.axes._subplots.AxesSubplot at 0x7f0d018f3610>"
            ]
          },
          "metadata": {},
          "execution_count": 48
        },
        {
          "output_type": "display_data",
          "data": {
            "text/plain": [
              "<Figure size 432x288 with 2 Axes>"
            ],
            "image/png": "[encoded data removed]"
          },
          "metadata": {}
        }
      ]
    },
    {
      "cell_type": "markdown",
      "source": [
        "<H3>Decesion Tree"
      ],
      "metadata": {
        "id": "knv1eKipMcVw"
      }
    },
    {
      "cell_type": "code",
      "source": [
        "dtc = DecisionTreeClassifier()\n",
        "dtc.fit(trainX,trainY)"
      ],
      "metadata": {
        "colab": {
          "base_uri": "https://localhost:8080/"
        },
        "id": "7w-ICGJwMYmV",
        "outputId": "c81c65ea-4231-4b1d-b202-ee5271709edd"
      },
      "execution_count": 49,
      "outputs": [
        {
          "output_type": "execute_result",
          "data": {
            "text/plain": [
              "DecisionTreeClassifier()"
            ]
          },
          "metadata": {},
          "execution_count": 49
        }
      ]
    },
    {
      "cell_type": "code",
      "source": [
        "dtc.score(testX,testY)"
      ],
      "metadata": {
        "colab": {
          "base_uri": "https://localhost:8080/"
        },
        "id": "JmVYgRpcMYeS",
        "outputId": "9fb2e2ee-bf80-451f-c01e-bd2c4102a61c"
      },
      "execution_count": 50,
      "outputs": [
        {
          "output_type": "execute_result",
          "data": {
            "text/plain": [
              "0.935251798561151"
            ]
          },
          "metadata": {},
          "execution_count": 50
        }
      ]
    },
    {
      "cell_type": "code",
      "source": [
        "Scores_ml['C.45'] = np.round(dtc.score(testX,testY),2)"
      ],
      "metadata": {
        "id": "uJSssPqgMYVu"
      },
      "execution_count": 51,
      "outputs": []
    },
    {
      "cell_type": "code",
      "source": [
        "print('Training Accuracy :',dtc.score(trainX,trainY))\n",
        "print('Testing Accuracy :',dtc.score(testX,testY))\n",
        "con_mat = pd.DataFrame(confusion_matrix(dtc.predict(testX), testY),\n",
        "            columns = ['Predicted:Bad', 'Predicted:Good'],\n",
        "            index = ['Actual:Bad', 'Actual:Good'])"
      ],
      "metadata": {
        "colab": {
          "base_uri": "https://localhost:8080/"
        },
        "id": "MAsolhI6MYNk",
        "outputId": "4ba01ffc-9fa5-4b74-b201-f085f0b96730"
      },
      "execution_count": 52,
      "outputs": [
        {
          "output_type": "stream",
          "name": "stdout",
          "text": [
            "Training Accuracy : 1.0\n",
            "Testing Accuracy : 0.935251798561151\n"
          ]
        }
      ]
    },
    {
      "cell_type": "code",
      "source": [
        "print('\\nCLASSIFICATION REPORT\\n')\n",
        "print(classification_report(dtc.predict(testX), testY,\n",
        "                            target_names =['Bad','Good']))"
      ],
      "metadata": {
        "colab": {
          "base_uri": "https://localhost:8080/"
        },
        "id": "SY6FVSpmMYFd",
        "outputId": "9a075dfb-d17f-48c4-803b-d735dfd5d820"
      },
      "execution_count": 53,
      "outputs": [
        {
          "output_type": "stream",
          "name": "stdout",
          "text": [
            "\n",
            "CLASSIFICATION REPORT\n",
            "\n",
            "              precision    recall  f1-score   support\n",
            "\n",
            "         Bad       0.75      0.86      0.80        21\n",
            "        Good       0.97      0.95      0.96       118\n",
            "\n",
            "    accuracy                           0.94       139\n",
            "   macro avg       0.86      0.90      0.88       139\n",
            "weighted avg       0.94      0.94      0.94       139\n",
            "\n"
          ]
        }
      ]
    },
    {
      "cell_type": "code",
      "source": [
        "print('\\nCONFUSION MATRIX')\n",
        "plt.figure(figsize= (6,4))\n",
        "sns.heatmap(con_mat, annot = True,fmt='d',cmap=\"YlGnBu\")"
      ],
      "metadata": {
        "colab": {
          "base_uri": "https://localhost:8080/",
          "height": 317
        },
        "id": "gVOljw3OMX8I",
        "outputId": "c8d012ed-c091-4fea-9474-c59d18a0189e"
      },
      "execution_count": 54,
      "outputs": [
        {
          "output_type": "stream",
          "name": "stdout",
          "text": [
            "\n",
            "CONFUSION MATRIX\n"
          ]
        },
        {
          "output_type": "execute_result",
          "data": {
            "text/plain": [
              "<matplotlib.axes._subplots.AxesSubplot at 0x7f0d0187cf50>"
            ]
          },
          "metadata": {},
          "execution_count": 54
        },
        {
          "output_type": "display_data",
          "data": {
            "text/plain": [
              "<Figure size 432x288 with 2 Axes>"
            ],
            "image/png": "[encoded data removed]"
          },
          "metadata": {}
        }
      ]
    },
    {
      "cell_type": "markdown",
      "source": [
        "<H3> Neural Network"
      ],
      "metadata": {
        "id": "eCfqi5KJMfZ9"
      }
    },
    {
      "cell_type": "code",
      "source": [
        "nn = MLPClassifier()\n",
        "nn.fit(trainX,trainY)"
      ],
      "metadata": {
        "colab": {
          "base_uri": "https://localhost:8080/"
        },
        "id": "Imgj8DjHMXRX",
        "outputId": "2aaf5e14-dcc8-481b-88b0-0d237ab568d8"
      },
      "execution_count": 55,
      "outputs": [
        {
          "output_type": "execute_result",
          "data": {
            "text/plain": [
              "MLPClassifier()"
            ]
          },
          "metadata": {},
          "execution_count": 55
        }
      ]
    },
    {
      "cell_type": "code",
      "source": [
        "nn.score(testX,testY)"
      ],
      "metadata": {
        "colab": {
          "base_uri": "https://localhost:8080/"
        },
        "id": "solTquPGMXLf",
        "outputId": "f12305a5-9108-4cb0-af7f-8877692bbbd0"
      },
      "execution_count": 56,
      "outputs": [
        {
          "output_type": "execute_result",
          "data": {
            "text/plain": [
              "0.9424460431654677"
            ]
          },
          "metadata": {},
          "execution_count": 56
        }
      ]
    },
    {
      "cell_type": "code",
      "source": [
        "Scores_ml['Neural Network'] = np.round(nn.score(testX,testY),2)"
      ],
      "metadata": {
        "id": "VQ_THEtpMXE9"
      },
      "execution_count": 57,
      "outputs": []
    },
    {
      "cell_type": "code",
      "source": [
        "print('Training Accuracy :',nn.score(trainX,trainY))\n",
        "print('Testing Accuracy :',nn.score(testX,testY))\n",
        "con_mat = pd.DataFrame(confusion_matrix(nn.predict(testX), testY),\n",
        "            columns = ['Predicted:Bad', 'Predicted:Good'],\n",
        "            index = ['Actual:Bad', 'Actual:Good'])"
      ],
      "metadata": {
        "colab": {
          "base_uri": "https://localhost:8080/"
        },
        "id": "ZCvXjHOGMW_k",
        "outputId": "a09e579a-760c-4324-cf3f-5d26a7d1bbda"
      },
      "execution_count": 58,
      "outputs": [
        {
          "output_type": "stream",
          "name": "stdout",
          "text": [
            "Training Accuracy : 1.0\n",
            "Testing Accuracy : 0.9424460431654677\n"
          ]
        }
      ]
    },
    {
      "cell_type": "code",
      "source": [
        "print('\\nCLASSIFICATION REPORT\\n')\n",
        "print(classification_report(dtc.predict(testX), testY,\n",
        "                            target_names =['Bad','Good']))"
      ],
      "metadata": {
        "colab": {
          "base_uri": "https://localhost:8080/"
        },
        "id": "Y9xhP6VuMWoK",
        "outputId": "fac6b9ea-6632-4194-a4c0-e8563e1ae029"
      },
      "execution_count": 59,
      "outputs": [
        {
          "output_type": "stream",
          "name": "stdout",
          "text": [
            "\n",
            "CLASSIFICATION REPORT\n",
            "\n",
            "              precision    recall  f1-score   support\n",
            "\n",
            "         Bad       0.75      0.86      0.80        21\n",
            "        Good       0.97      0.95      0.96       118\n",
            "\n",
            "    accuracy                           0.94       139\n",
            "   macro avg       0.86      0.90      0.88       139\n",
            "weighted avg       0.94      0.94      0.94       139\n",
            "\n"
          ]
        }
      ]
    },
    {
      "cell_type": "code",
      "source": [
        "print('\\nCONFUSION MATRIX')\n",
        "plt.figure(figsize= (6,4))\n",
        "sns.heatmap(con_mat, annot = True,fmt='d',cmap=\"YlGnBu\")"
      ],
      "metadata": {
        "colab": {
          "base_uri": "https://localhost:8080/",
          "height": 317
        },
        "id": "aKMgBPpBMWVh",
        "outputId": "a93ec036-08ab-4fd7-ece2-def390e785ed"
      },
      "execution_count": 60,
      "outputs": [
        {
          "output_type": "stream",
          "name": "stdout",
          "text": [
            "\n",
            "CONFUSION MATRIX\n"
          ]
        },
        {
          "output_type": "execute_result",
          "data": {
            "text/plain": [
              "<matplotlib.axes._subplots.AxesSubplot at 0x7f0d017b57d0>"
            ]
          },
          "metadata": {},
          "execution_count": 60
        },
        {
          "output_type": "display_data",
          "data": {
            "text/plain": [
              "<Figure size 432x288 with 2 Axes>"
            ],
            "image/png": "[encoded data removed]"
          },
          "metadata": {}
        }
      ]
    },
    {
      "cell_type": "markdown",
      "source": [
        "<H3> K-Nearst Neighbor"
      ],
      "metadata": {
        "id": "zbr7dIw_MhlB"
      }
    },
    {
      "cell_type": "code",
      "source": [
        "knn = KNeighborsClassifier()\n",
        "knn.fit(trainX,trainY)"
      ],
      "metadata": {
        "colab": {
          "base_uri": "https://localhost:8080/"
        },
        "id": "Pviv5_Z7MVtt",
        "outputId": "045600ef-1de0-4204-d7e4-6f60e8a987a7"
      },
      "execution_count": 61,
      "outputs": [
        {
          "output_type": "execute_result",
          "data": {
            "text/plain": [
              "KNeighborsClassifier()"
            ]
          },
          "metadata": {},
          "execution_count": 61
        }
      ]
    },
    {
      "cell_type": "code",
      "source": [
        "knn.score(testX,testY)"
      ],
      "metadata": {
        "colab": {
          "base_uri": "https://localhost:8080/"
        },
        "id": "_groiukBMVj_",
        "outputId": "6a32b5bb-8a3e-4495-c36b-d5dffd89bf1a"
      },
      "execution_count": 62,
      "outputs": [
        {
          "output_type": "execute_result",
          "data": {
            "text/plain": [
              "0.8848920863309353"
            ]
          },
          "metadata": {},
          "execution_count": 62
        }
      ]
    },
    {
      "cell_type": "code",
      "source": [
        "Scores_ml['KNN'] = np.round(knn.score(testX,testY),2)"
      ],
      "metadata": {
        "id": "k6NuTWd2MVYl"
      },
      "execution_count": 63,
      "outputs": []
    },
    {
      "cell_type": "code",
      "source": [
        "print('Training Accuracy :',knn.score(trainX,trainY))\n",
        "print('Testing Accuracy :',knn.score(testX,testY))\n",
        "con_mat = pd.DataFrame(confusion_matrix(knn.predict(testX), testY),\n",
        "            columns = ['Predicted:Bad', 'Predicted:Good'],\n",
        "            index = ['Actual:Bad', 'Actual:Good'])"
      ],
      "metadata": {
        "colab": {
          "base_uri": "https://localhost:8080/"
        },
        "id": "0kyGYEXvMVNi",
        "outputId": "1e2ef3b2-10d2-492f-e499-3d73016ccf17"
      },
      "execution_count": 64,
      "outputs": [
        {
          "output_type": "stream",
          "name": "stdout",
          "text": [
            "Training Accuracy : 0.9060240963855422\n",
            "Testing Accuracy : 0.8848920863309353\n"
          ]
        }
      ]
    },
    {
      "cell_type": "code",
      "source": [
        "print('\\nCLASSIFICATION REPORT\\n')\n",
        "print(classification_report(dtc.predict(testX), testY,\n",
        "                            target_names =['Bad','Good']))"
      ],
      "metadata": {
        "colab": {
          "base_uri": "https://localhost:8080/"
        },
        "id": "0DG0vweUMVCq",
        "outputId": "66792316-92a4-4d5a-a4e2-05554b453017"
      },
      "execution_count": 65,
      "outputs": [
        {
          "output_type": "stream",
          "name": "stdout",
          "text": [
            "\n",
            "CLASSIFICATION REPORT\n",
            "\n",
            "              precision    recall  f1-score   support\n",
            "\n",
            "         Bad       0.75      0.86      0.80        21\n",
            "        Good       0.97      0.95      0.96       118\n",
            "\n",
            "    accuracy                           0.94       139\n",
            "   macro avg       0.86      0.90      0.88       139\n",
            "weighted avg       0.94      0.94      0.94       139\n",
            "\n"
          ]
        }
      ]
    },
    {
      "cell_type": "code",
      "source": [
        "print('\\nCONFUSION MATRIX')\n",
        "plt.figure(figsize= (6,4))\n",
        "sns.heatmap(con_mat, annot = True,fmt='d',cmap=\"YlGnBu\")"
      ],
      "metadata": {
        "colab": {
          "base_uri": "https://localhost:8080/",
          "height": 317
        },
        "id": "1noDPLEqMU5Z",
        "outputId": "876d98f9-6a59-45e2-895b-a9a4c5fd1427"
      },
      "execution_count": 66,
      "outputs": [
        {
          "output_type": "stream",
          "name": "stdout",
          "text": [
            "\n",
            "CONFUSION MATRIX\n"
          ]
        },
        {
          "output_type": "execute_result",
          "data": {
            "text/plain": [
              "<matplotlib.axes._subplots.AxesSubplot at 0x7f0d016865d0>"
            ]
          },
          "metadata": {},
          "execution_count": 66
        },
        {
          "output_type": "display_data",
          "data": {
            "text/plain": [
              "<Figure size 432x288 with 2 Axes>"
            ],
            "image/png": "[encoded data removed]"
          },
          "metadata": {}
        }
      ]
    },
    {
      "cell_type": "code",
      "execution_count": 67,
      "metadata": {
        "id": "79_lbRCEBDvq",
        "colab": {
          "base_uri": "https://localhost:8080/",
          "height": 282
        },
        "outputId": "3101e8e1-81ed-4d0c-87b6-883aca60754c"
      },
      "outputs": [
        {
          "output_type": "execute_result",
          "data": {
            "text/plain": [
              "<matplotlib.axes._subplots.AxesSubplot at 0x7f0d01614890>"
            ]
          },
          "metadata": {},
          "execution_count": 67
        },
        {
          "output_type": "display_data",
          "data": {
            "text/plain": [
              "<Figure size 432x288 with 1 Axes>"
            ],
            "image/png": "[encoded data removed]"
          },
          "metadata": {}
        }
      ],
      "source": [
        "acc = pd.DataFrame.from_dict(Scores_ml,orient = 'index',columns=['Accuracy'])\n",
        "sns.set_style('darkgrid')\n",
        "sns.barplot(acc.index,acc.Accuracy)"
      ]
    },
    {
      "cell_type": "code",
      "execution_count": 98,
      "metadata": {
        "id": "BA24mMiMBFX9"
      },
      "outputs": [],
      "source": [
        "pipeline_ls = make_pipeline(CountVectorizer(tokenizer = RegexpTokenizer(r'[A-Za-z]+').tokenize,stop_words='english'), MLPClassifier())"
      ]
    },
    {
      "cell_type": "code",
      "execution_count": 99,
      "metadata": {
        "id": "O5eKQCJJBNzf"
      },
      "outputs": [],
      "source": [
        "trainX, testX, trainY, testY = train_test_split(df.URL, df.Label)"
      ]
    },
    {
      "cell_type": "code",
      "execution_count": 100,
      "metadata": {
        "id": "ILvVlKTqBUPD",
        "colab": {
          "base_uri": "https://localhost:8080/"
        },
        "outputId": "ea474090-ddc0-48d2-c598-71d040e6b640"
      },
      "outputs": [
        {
          "output_type": "execute_result",
          "data": {
            "text/plain": [
              "Pipeline(steps=[('countvectorizer',\n",
              "                 CountVectorizer(stop_words='english',\n",
              "                                 tokenizer=<bound method RegexpTokenizer.tokenize of RegexpTokenizer(pattern='[A-Za-z]+', gaps=False, discard_empty=True, flags=<RegexFlag.UNICODE|DOTALL|MULTILINE: 56>)>)),\n",
              "                ('mlpclassifier', MLPClassifier())])"
            ]
          },
          "metadata": {},
          "execution_count": 100
        }
      ],
      "source": [
        "pipeline_ls.fit(trainX,trainY)"
      ]
    },
    {
      "cell_type": "code",
      "execution_count": 101,
      "metadata": {
        "id": "0wYUyKMIBeYp",
        "colab": {
          "base_uri": "https://localhost:8080/"
        },
        "outputId": "52b7baf5-9491-4ed7-da1d-02c34fd45760"
      },
      "outputs": [
        {
          "output_type": "execute_result",
          "data": {
            "text/plain": [
              "0.9568345323741008"
            ]
          },
          "metadata": {},
          "execution_count": 101
        }
      ],
      "source": [
        "pipeline_ls.score(testX,testY) "
      ]
    },
    {
      "cell_type": "code",
      "execution_count": 102,
      "metadata": {
        "id": "mrUbiCB6BjvZ",
        "colab": {
          "base_uri": "https://localhost:8080/"
        },
        "outputId": "25e237cd-c991-4692-db0d-0d1be18f6c57"
      },
      "outputs": [
        {
          "output_type": "stream",
          "name": "stdout",
          "text": [
            "Training Accuracy : 1.0\n",
            "Testing Accuracy : 0.9568345323741008\n"
          ]
        }
      ],
      "source": [
        "print('Training Accuracy :',pipeline_ls.score(trainX,trainY))\n",
        "print('Testing Accuracy :',pipeline_ls.score(testX,testY))\n",
        "con_mat = pd.DataFrame(confusion_matrix(pipeline_ls.predict(testX), testY),\n",
        "            columns = ['Predicted:Bad', 'Predicted:Good'],\n",
        "            index = ['Actual:Bad', 'Actual:Good'])"
      ]
    },
    {
      "cell_type": "code",
      "execution_count": 103,
      "metadata": {
        "id": "ontd7AtkBpPv",
        "colab": {
          "base_uri": "https://localhost:8080/"
        },
        "outputId": "cb74928b-8655-4ab4-d088-72ad13f2ba42"
      },
      "outputs": [
        {
          "output_type": "stream",
          "name": "stdout",
          "text": [
            "\n",
            "CLASSIFICATION REPORT\n",
            "\n",
            "              precision    recall  f1-score   support\n",
            "\n",
            "         Bad       0.68      1.00      0.81        13\n",
            "        Good       1.00      0.95      0.98       126\n",
            "\n",
            "    accuracy                           0.96       139\n",
            "   macro avg       0.84      0.98      0.89       139\n",
            "weighted avg       0.97      0.96      0.96       139\n",
            "\n"
          ]
        }
      ],
      "source": [
        "print('\\nCLASSIFICATION REPORT\\n')\n",
        "print(classification_report(pipeline_ls.predict(testX), testY,\n",
        "                            target_names =['Bad','Good']))"
      ]
    },
    {
      "cell_type": "code",
      "execution_count": 104,
      "metadata": {
        "id": "UIiInxEOBuZm",
        "colab": {
          "base_uri": "https://localhost:8080/",
          "height": 321
        },
        "outputId": "a8778ffa-9e64-4d1f-b6c6-c946497eed3c"
      },
      "outputs": [
        {
          "output_type": "stream",
          "name": "stdout",
          "text": [
            "\n",
            "CONFUSION MATRIX\n"
          ]
        },
        {
          "output_type": "execute_result",
          "data": {
            "text/plain": [
              "<matplotlib.axes._subplots.AxesSubplot at 0x7f0d0080ee10>"
            ]
          },
          "metadata": {},
          "execution_count": 104
        },
        {
          "output_type": "display_data",
          "data": {
            "text/plain": [
              "<Figure size 432x288 with 2 Axes>"
            ],
            "image/png": "[encoded data removed]"
          },
          "metadata": {}
        }
      ],
      "source": [
        "print('\\nCONFUSION MATRIX')\n",
        "plt.figure(figsize= (6,4))\n",
        "sns.heatmap(con_mat, annot = True,fmt='d',cmap=\"YlGnBu\")"
      ]
    },
    {
      "cell_type": "code",
      "execution_count": 105,
      "metadata": {
        "id": "s0yLf56gBw1b"
      },
      "outputs": [],
      "source": [
        "pickle.dump(pipeline_ls,open('web_phishing.pkl','wb'))"
      ]
    },
    {
      "cell_type": "code",
      "execution_count": 106,
      "metadata": {
        "id": "LwH_w4URBy6F",
        "colab": {
          "base_uri": "https://localhost:8080/"
        },
        "outputId": "7b8cf1b0-158c-4e3a-ccbe-457f803ac9e6"
      },
      "outputs": [
        {
          "output_type": "stream",
          "name": "stdout",
          "text": [
            "0.9568345323741008\n"
          ]
        }
      ],
      "source": [
        "loaded_model = pickle.load(open('web_phishing.pkl', 'rb'))\n",
        "result = loaded_model.score(testX,testY)\n",
        "print(result)"
      ]
    },
    {
      "cell_type": "code",
      "execution_count": 107,
      "metadata": {
        "id": "BuxyyhXcCBYc",
        "colab": {
          "base_uri": "https://localhost:8080/"
        },
        "outputId": "3abc273d-3ee9-4fbd-9f95-b0dc9926142d"
      },
      "outputs": [
        {
          "output_type": "stream",
          "name": "stdout",
          "text": [
            "['bad' 'bad' 'bad' 'bad']\n",
            "******************************\n",
            "['good' 'good' 'good' 'good']\n"
          ]
        }
      ],
      "source": [
        "predict_bad = ['http://www.paypal.com.it.webscr.logq.gtw.pl/?cmd=_run-check-cookie-submit&redirectCmd=_login-submit','facebook-support-tech.com','facebook.activation.inactive-scure.com','instagram-verify-support.com']\n",
        "predict_good = ['https://instagram.com','https://facebook.com','tokopedia.com','www.paypal.com']\n",
        "loaded_model = pickle.load(open('web_phishing.pkl', 'rb'))\n",
        "\n",
        "result = loaded_model.predict(predict_bad)\n",
        "result2 = loaded_model.predict(predict_good)\n",
        "print(result)\n",
        "print(\"*\"*30)\n",
        "print(result2)"
      ]
    }
  ],
  "metadata": {
    "colab": {
      "name": "url_phishing_detection.ipynb",
      "provenance": [],
      "collapsed_sections": []
    },
    "kernelspec": {
      "display_name": "Python 3",
      "name": "python3"
    },
    "language_info": {
      "name": "python"
    },
    "gpuClass": "standard"
  },
  "nbformat": 4,
  "nbformat_minor": 0
}